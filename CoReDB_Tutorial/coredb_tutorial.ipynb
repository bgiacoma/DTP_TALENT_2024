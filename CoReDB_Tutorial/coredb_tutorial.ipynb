{
 "cells": [
  {
   "attachments": {},
   "cell_type": "markdown",
   "metadata": {},
   "source": [
    "# Clone, get data and load waveforms from a simulation to the CoRe DB"
   ]
  },
  {
   "attachments": {},
   "cell_type": "markdown",
   "metadata": {},
   "source": [
    "Illustrates the use of the watpy objects to work with the CoRe DB.\n",
    "\n",
    "SB 09/2021 \n",
    "AG 05/2023 \n",
    "AG 07/2024\n",
    "core@uni-jena.de\n"
   ]
  },
  {
   "attachments": {},
   "cell_type": "markdown",
   "metadata": {},
   "source": [
    "## 0. Start"
   ]
  },
  {
   "attachments": {},
   "cell_type": "markdown",
   "metadata": {},
   "source": [
    "Clone the repo somewhere and install the package:\n",
    "\n",
    "```\n",
    "git clone https://git.tpi.uni-jena.de/core/watpy.git\n",
    "cd watpy\n",
    "python setup.py install\n",
    "```\n",
    "\n",
    "Now we will be cloning part of the CoRe DB from the gitlab repository\n",
    "\n",
    "https://core-gitlfs.tpi.uni-jena.de/core_database\n",
    "\n",
    "so prepare a folder for those data:\n",
    "\n",
    "```\n",
    "mkdir CoRe_DB_clone # for local clone of the CoRe DB\n",
    "```\n",
    "\n",
    "or"
   ]
  },
  {
   "cell_type": "code",
   "execution_count": 4,
   "metadata": {},
   "outputs": [],
   "source": [
    "import os\n",
    "os.makedirs('./CoRe_DB_clone', exist_ok=True) "
   ]
  },
  {
   "attachments": {},
   "cell_type": "markdown",
   "metadata": {},
   "source": [
    "## 1. Clone the CoRe DB"
   ]
  },
  {
   "cell_type": "code",
   "execution_count": 5,
   "metadata": {},
   "outputs": [],
   "source": [
    "from watpy.coredb.coredb import *"
   ]
  },
  {
   "attachments": {},
   "cell_type": "markdown",
   "metadata": {},
   "source": [
    "Initialize a `CoRe_db()` object by specifying the path where we would like the CoRe DB to be initialized. \n",
    "The initialization will either clone the special repository `core_database_index` (and only this one) in the given path or syncronize it to (i.e. pull) the latest version in case the repository already exists."
   ]
  },
  {
   "cell_type": "code",
   "execution_count": 6,
   "metadata": {},
   "outputs": [
    {
     "name": "stdout",
     "output_type": "stream",
     "text": [
      "Index found, updating...\n",
      "\n",
      "git-pull core_database_index ...\n",
      " \n",
      "done!\n",
      " Found R01\n",
      "Found THC:0012\n",
      " Found R01\n",
      "Found THC:0015\n",
      " Found R02\n",
      " Found R01\n",
      "Found THC:0071\n",
      " Found R01\n",
      "Found THC:0017\n",
      " Found R02\n",
      " Found R01\n",
      "Found THC:0041\n",
      "skip core_database_index, not a DB key\n",
      " Found R02\n",
      " Found R01\n",
      "Found THC:0048\n",
      " Found R01\n",
      "Found THC:0066\n",
      " Found R02\n",
      " Found R01\n",
      "Found THC:0042\n",
      " Found R02\n",
      " Found R01\n",
      "Found THC:0047\n",
      " Found R02\n",
      " Found R01\n",
      "Found THC:0013\n",
      " Found R01\n",
      "Found THC:0014\n",
      " Found R02\n",
      " Found R01\n",
      "Found THC:0072\n",
      " Found R01\n",
      "Found THC:0010\n",
      " Found R03\n",
      " Found R02\n",
      " Found R01\n",
      "Found THC:0043\n",
      " Found R02\n",
      " Found R01\n",
      "Found THC:0016\n",
      " Found R01\n",
      "Found THC:0040\n",
      " Found R03\n",
      " Found R02\n",
      " Found R04\n",
      " Found R01\n",
      "Found BAM:0066\n",
      " Found R02\n",
      " Found R01\n",
      "Found THC:0055\n",
      " Found R01\n",
      "Found THC:0011\n"
     ]
    }
   ],
   "source": [
    "db_path = './CoRe_DB_clone/'\n",
    "cdb = CoRe_db(db_path)"
   ]
  },
  {
   "attachments": {},
   "cell_type": "markdown",
   "metadata": {},
   "source": [
    "If issues with the CA certificate arise, make sure to have `ca-certificates` installed and the certificate file `core-gitlfs-tpi-uni-jena-de.pem` downloaded (directly from the lock icon from your browser, next to the website address) and copied in the corresponding folder `/etc/ssl/certs`. Additionally you can also try:\n",
    "\n",
    "```\n",
    "git config --global http.sslCAInfo /etc/ssl/certs/core-gitlfs-tpi-uni-jena-de.pem\n",
    "```\n",
    "\n",
    "The `cdb` object contains the CoRe DB index, which is a `CoRe_idx()` object with essential metadata for all the simulations contained in the DB. The metadata are in a list of `CoRe_md()` objects; which is a simple class wrapping a python dictionary."
   ]
  },
  {
   "cell_type": "code",
   "execution_count": 7,
   "metadata": {},
   "outputs": [
    {
     "name": "stdout",
     "output_type": "stream",
     "text": [
      "['BAM:0001', 'BAM:0002', 'BAM:0003', 'BAM:0004', 'BAM:0005', 'BAM:0006', 'BAM:0007', 'BAM:0008', 'BAM:0009', 'BAM:0010', 'BAM:0011', 'BAM:0012', 'BAM:0013', 'BAM:0014', 'BAM:0015', 'BAM:0016', 'BAM:0017', 'BAM:0018', 'BAM:0019', 'BAM:0020', 'BAM:0021', 'BAM:0022', 'BAM:0023', 'BAM:0024', 'BAM:0025', 'BAM:0026', 'BAM:0027', 'BAM:0028', 'BAM:0029', 'BAM:0030', 'BAM:0031', 'BAM:0032', 'BAM:0033', 'BAM:0034', 'BAM:0035', 'BAM:0036', 'BAM:0037', 'BAM:0038', 'BAM:0039', 'BAM:0040', 'BAM:0041', 'BAM:0042', 'BAM:0043', 'BAM:0044', 'BAM:0045', 'BAM:0046', 'BAM:0047', 'BAM:0048', 'BAM:0049', 'BAM:0050', 'BAM:0051', 'BAM:0052', 'BAM:0053', 'BAM:0054', 'BAM:0055', 'BAM:0056', 'BAM:0057', 'BAM:0058', 'BAM:0059', 'BAM:0060', 'BAM:0061', 'BAM:0062', 'BAM:0063', 'BAM:0064', 'BAM:0065', 'BAM:0066', 'BAM:0067', 'BAM:0068', 'BAM:0069', 'BAM:0070', 'BAM:0071', 'BAM:0072', 'BAM:0073', 'BAM:0074', 'BAM:0075', 'BAM:0076', 'BAM:0077', 'BAM:0078', 'BAM:0079', 'BAM:0080', 'BAM:0081', 'BAM:0082', 'BAM:0083', 'BAM:0084', 'BAM:0085', 'BAM:0086', 'BAM:0087', 'BAM:0088', 'BAM:0089', 'BAM:0090', 'BAM:0091', 'BAM:0092', 'BAM:0093', 'BAM:0094', 'BAM:0095', 'BAM:0096', 'BAM:0097', 'BAM:0098', 'BAM:0099', 'BAM:0100', 'BAM:0101', 'BAM:0102', 'BAM:0103', 'BAM:0104', 'BAM:0105', 'BAM:0106', 'BAM:0107', 'BAM:0108', 'BAM:0109', 'BAM:0110', 'BAM:0111', 'BAM:0112', 'BAM:0113', 'BAM:0114', 'BAM:0115', 'BAM:0116', 'BAM:0117', 'BAM:0118', 'BAM:0119', 'BAM:0120', 'BAM:0121', 'BAM:0122', 'BAM:0123', 'BAM:0124', 'BAM:0125', 'BAM:0126', 'BAM:0127', 'BAM:0128', 'BAM:0129', 'BAM:0130', 'BAM:0131', 'BAM:0132', 'BAM:0133', 'BAM:0134', 'BAM:0135', 'BAM:0136', 'BAM:0137', 'BAM:0138', 'BAM:0139', 'BAM:0140', 'BAM:0141', 'BAM:0142', 'BAM:0143', 'BAM:0144', 'BAM:0145', 'BAM:0146', 'BAM:0147', 'BAM:0148', 'BAM:0149', 'BAM:0150', 'BAM:0151', 'BAM:0152', 'BAM:0153', 'BAM:0154', 'BAM:0155', 'BAM:0156', 'BAM:0157', 'BAM:0158', 'BAM:0159', 'BAM:0160', 'BAM:0161', 'BAM:0162', 'BAM:0163', 'BAM:0164', 'BAM:0165', 'BAM:0166', 'BAM:0167', 'BAM:0168', 'BAM:0169', 'BAM:0170', 'BAM:0171', 'BAM:0172', 'BAM:0173', 'BAM:0174', 'BAM:0175', 'THC:0001', 'THC:0002', 'THC:0003', 'THC:0004', 'THC:0005', 'THC:0006', 'THC:0007', 'THC:0008', 'THC:0009', 'THC:0010', 'THC:0011', 'THC:0012', 'THC:0013', 'THC:0014', 'THC:0015', 'THC:0016', 'THC:0017', 'THC:0018', 'THC:0019', 'THC:0020', 'THC:0021', 'THC:0022', 'THC:0023', 'THC:0024', 'THC:0025', 'THC:0026', 'THC:0027', 'THC:0028', 'THC:0029', 'THC:0030', 'THC:0031', 'THC:0032', 'THC:0033', 'THC:0034', 'THC:0035', 'THC:0036', 'THC:0037', 'THC:0038', 'THC:0039', 'THC:0040', 'THC:0041', 'THC:0042', 'THC:0043', 'THC:0044', 'THC:0045', 'THC:0046', 'THC:0047', 'THC:0048', 'THC:0049', 'THC:0050', 'THC:0051', 'THC:0052', 'THC:0053', 'THC:0054', 'THC:0055', 'THC:0056', 'THC:0057', 'THC:0058', 'THC:0059', 'THC:0060', 'THC:0061', 'THC:0062', 'THC:0063', 'THC:0064', 'THC:0065', 'THC:0066', 'THC:0067', 'THC:0068', 'THC:0069', 'THC:0070', 'THC:0071', 'THC:0072', 'THC:0073', 'THC:0074', 'THC:0075', 'THC:0076', 'THC:0077', 'THC:0078', 'THC:0079', 'THC:0080', 'THC:0081', 'THC:0082', 'THC:0083', 'THC:0084', 'THC:0085', 'THC:0086', 'THC:0087', 'THC:0088', 'THC:0089', 'THC:0090', 'THC:0091', 'THC:0092', 'THC:0093', 'THC:0094', 'THC:0095', 'THC:0096', 'THC:0097', 'THC:0098', 'THC:0099', 'THC:0100', 'THC:0101', 'THC:0102', 'THC:0103', 'THC:0104', 'THC:0105', 'THC:0106', 'THC:0107']\n",
      "  database_key = BAM:0001\n",
      "  available_runs = R01, R02, R03, R04\n",
      "  simulation_name = 2B_1.350_1.350_0.00_0.00_0.038\n",
      "  binary_type = BNS\n",
      "  reference_bibkeys = Bernuzzi:2014owa\n",
      "  id_code = LORENE\n",
      "  id_type = Irrotational\n",
      "  id_mass = 2.699952e+00\n",
      "  id_rest_mass = 3.050133e+00\n",
      "  id_mass_ratio = 1.000000e+00\n",
      "  id_ADM_mass = 2.677624e+00\n",
      "  id_ADM_angularmomentum = 7.662564e+00\n",
      "  id_gw_frequency_Hz = 4.545056e+02\n",
      "  id_gw_frequency_Momega22 = 3.797735e-02\n",
      "  id_eos = 2B\n",
      "  id_kappa2T = 2.376117e+01\n",
      "  id_Lambda = 1.267263e+02\n",
      "  id_eccentricity = 7.092541e-03\n",
      "  id_mass_starA = 1.349976e+00\n",
      "  id_rest_mass_starA = 1.525067e+00\n",
      "  id_spin_starA = 0, 0, 0\n",
      "  id_LoveNum_kell_starA = 6.899000e-02, 1.746000e-02, 5.990000e-03\n",
      "  id_Lambdaell_starA = 1.267263e+02, 1.524837e+02, 1.776546e+02\n",
      "  id_mass_starB = 1.349976e+00\n",
      "  id_rest_mass_starB = 1.525067e+00\n",
      "  id_spin_starB = 0, 0, 0\n",
      "  id_LoveNum_kell_starB = 6.899000e-02, 1.746000e-02, 5.990000e-03\n",
      "  id_Lambdaell_starB = 1.267263e+02, 1.524837e+02, 1.776546e+02\n",
      "  evolution_code = None\n",
      "  grid_refinement_levels = None\n",
      "  grid_refinement_levels_moving = None\n",
      "  grid_refinement_levels_npoints = None\n",
      "  grid_refinement_levels_moving_npoints = None\n",
      "  grid_spacing_min = None\n",
      "  grid_symmetries = None\n",
      "  grid_shells = None\n",
      "  grid_shells_radial_npoints = None\n",
      "  grid_shells_angular_npoints = None\n",
      "  grid_conservative_amr = None\n",
      "  subgrid_model = None\n",
      "  metric_scheme = None\n",
      "  metric_boundary_conditions = None\n",
      "  hydro_flux = None\n",
      "  hydro_reconstruction = None\n",
      "  hydro_atmosphere_level = None\n",
      "  hydro_atmosphere_factor = None\n",
      "  number_of_orbits = None\n",
      "  evolution_mol_scheme = None\n",
      "  eos_evolution_Gamma_thermal = None\n",
      "  neutrino_scheme = None\n",
      "  id_gw_NR_frequency_Hz = None\n",
      "  Hybrid_window_freq_Hz = None\n",
      "  TEOB_Lambda_starA = None\n",
      "  TEOB_Lambda_starB = None\n",
      "  TEOB_version = None\n",
      "  NR_simulation_key = None\n",
      "Shown 1 entries\n"
     ]
    }
   ],
   "source": [
    "idb = cdb.idb\n",
    "\n",
    "print(idb.dbkeys) # show the database_key for each simulation\n",
    "\n",
    "# show the metadata in the CoRe DB index for each simulation\n",
    "entries = 0\n",
    "for i in idb.index: \n",
    "    entries += 1\n",
    "    for k, v in i.data.items():\n",
    "        print('  {} = {}'.format(k,v))\n",
    "    \n",
    "    break # uncomment to see all ... large output\n",
    "print('Shown {} entries'.format(entries))"
   ]
  },
  {
   "attachments": {},
   "cell_type": "markdown",
   "metadata": {},
   "source": [
    "It is also possible to plot some quantities"
   ]
  },
  {
   "cell_type": "code",
   "execution_count": 8,
   "metadata": {},
   "outputs": [
    {
     "data": {
      "image/png": "[encoded data removed]",
      "text/plain": [
       "<Figure size 432x288 with 1 Axes>"
      ]
     },
     "metadata": {
      "needs_background": "light"
     },
     "output_type": "display_data"
    }
   ],
   "source": [
    "fig, ax = idb.show('id_eos', to_float=False) "
   ]
  },
  {
   "cell_type": "code",
   "execution_count": 9,
   "metadata": {},
   "outputs": [
    {
     "data": {
      "image/png": "[encoded data removed]",
      "text/plain": [
       "<Figure size 432x288 with 1 Axes>"
      ]
     },
     "metadata": {
      "needs_background": "light"
     },
     "output_type": "display_data"
    }
   ],
   "source": [
    "fig, ax = idb.show('id_gw_frequency_Momega22', to_float=True) "
   ]
  },
  {
   "attachments": {},
   "cell_type": "markdown",
   "metadata": {},
   "source": [
    "**Note that the index contains only a subset of all the available metadata for each simulation.** We can find a group of simulations based on these metadata using usual dictionary manipulation:"
   ]
  },
  {
   "cell_type": "code",
   "execution_count": 10,
   "metadata": {},
   "outputs": [
    {
     "name": "stdout",
     "output_type": "stream",
     "text": [
      "  database_key = THC:0010\n",
      "  available_runs = R01\n",
      "  simulation_name = DD2_1.200_1.200_0.00_0.00_0.047\n",
      "  binary_type = BNS\n",
      "  reference_bibkeys = Radice:2016rys Radice:2017lry\n",
      "  id_code = LORENE\n",
      "  id_type = Irrotational\n",
      "  id_mass = 2.4\n",
      "  id_rest_mass = 2.59384\n",
      "  id_mass_ratio = 1.0\n",
      "  id_ADM_mass = 2.38178\n",
      "  id_ADM_angularmomentum = 5.75981\n",
      "  id_gw_frequency_Hz = 633.08\n",
      "  id_gw_frequency_Momega22 = 0.0470247001245\n",
      "  id_eos = DD2\n",
      "  id_kappa2T = 302.2965055328028\n",
      "  id_Lambda = 1612.2480295082828\n",
      "  id_eccentricity = \n",
      "  id_mass_starA = 1.2\n",
      "  id_rest_mass_starA = 1.29692\n",
      "  id_spin_starA = 0, 0, 0\n",
      "  id_LoveNum_kell_starA = 0.10752, 0.02943, 0.01096\n",
      "  id_Lambdaell_starA = 1612.2480295082821, 4859.330076873647, 14233.516050669448\n",
      "  id_mass_starB = 1.2\n",
      "  id_rest_mass_starB = 1.29692\n",
      "  id_spin_starB = 0, 0, 0\n",
      "  id_LoveNum_kell_starB = 0.10752, 0.02943, 0.01096\n",
      "  id_Lambdaell_starB = 1612.2480295082821, 4859.330076873647, 14233.516050669448\n",
      "  evolution_code = None\n",
      "  grid_refinement_levels = None\n",
      "  grid_refinement_levels_moving = None\n",
      "  grid_refinement_levels_npoints = None\n",
      "  grid_refinement_levels_moving_npoints = None\n",
      "  grid_spacing_min = None\n",
      "  grid_symmetries = None\n",
      "  grid_shells = None\n",
      "  grid_shells_radial_npoints = None\n",
      "  grid_shells_angular_npoints = None\n",
      "  grid_conservative_amr = None\n",
      "  subgrid_model = None\n",
      "  metric_scheme = None\n",
      "  metric_boundary_conditions = None\n",
      "  hydro_flux = None\n",
      "  hydro_reconstruction = None\n",
      "  hydro_atmosphere_level = None\n",
      "  hydro_atmosphere_factor = None\n",
      "  number_of_orbits = None\n",
      "  evolution_mol_scheme = None\n",
      "  eos_evolution_Gamma_thermal = None\n",
      "  neutrino_scheme = None\n",
      "  id_gw_NR_frequency_Hz = None\n",
      "  Hybrid_window_freq_Hz = None\n",
      "  TEOB_Lambda_starA = None\n",
      "  TEOB_Lambda_starB = None\n",
      "  TEOB_version = None\n",
      "  NR_simulation_key = None\n",
      "  database_key = THC:0011\n",
      "  available_runs = R01\n",
      "  simulation_name = DD2_1.250_1.250_0.00_0.00_0.050\n",
      "  binary_type = BNS\n",
      "  reference_bibkeys = Radice:2016rys Radice:2017lry\n",
      "  id_code = LORENE\n",
      "  id_type = Irrotational\n",
      "  id_mass = 2.5\n",
      "  id_rest_mass = 2.70598\n",
      "  id_mass_ratio = 1.0\n",
      "  id_ADM_mass = 2.47564\n",
      "  id_ADM_angularmomentum = 6.16715\n",
      "  id_gw_frequency_Hz = 644.684\n",
      "  id_gw_frequency_Momega22 = 0.0498819129216\n",
      "  id_eos = DD2\n",
      "  id_kappa2T = 242.86873383835237\n",
      "  id_Lambda = 1295.299913804546\n",
      "  id_eccentricity = \n",
      "  id_mass_starA = 1.25\n",
      "  id_rest_mass_starA = 1.35299\n",
      "  id_spin_starA = 0, 0, 0\n",
      "  id_LoveNum_kell_starA = 0.10517, 0.02864, 0.01061\n",
      "  id_Lambdaell_starA = 1295.2999138045457, 3590.1232699912975, 9669.000432709556\n",
      "  id_mass_starB = 1.25\n",
      "  id_rest_mass_starB = 1.35299\n",
      "  id_spin_starB = 0, 0, 0\n",
      "  id_LoveNum_kell_starB = 0.10517, 0.02864, 0.01061\n",
      "  id_Lambdaell_starB = 1295.2999138045457, 3590.1232699912975, 9669.000432709556\n",
      "  evolution_code = None\n",
      "  grid_refinement_levels = None\n",
      "  grid_refinement_levels_moving = None\n",
      "  grid_refinement_levels_npoints = None\n",
      "  grid_refinement_levels_moving_npoints = None\n",
      "  grid_spacing_min = None\n",
      "  grid_symmetries = None\n",
      "  grid_shells = None\n",
      "  grid_shells_radial_npoints = None\n",
      "  grid_shells_angular_npoints = None\n",
      "  grid_conservative_amr = None\n",
      "  subgrid_model = None\n",
      "  metric_scheme = None\n",
      "  metric_boundary_conditions = None\n",
      "  hydro_flux = None\n",
      "  hydro_reconstruction = None\n",
      "  hydro_atmosphere_level = None\n",
      "  hydro_atmosphere_factor = None\n",
      "  number_of_orbits = None\n",
      "  evolution_mol_scheme = None\n",
      "  eos_evolution_Gamma_thermal = None\n",
      "  neutrino_scheme = None\n",
      "  id_gw_NR_frequency_Hz = None\n",
      "  Hybrid_window_freq_Hz = None\n",
      "  TEOB_Lambda_starA = None\n",
      "  TEOB_Lambda_starB = None\n",
      "  TEOB_version = None\n",
      "  NR_simulation_key = None\n",
      "  database_key = THC:0012\n",
      "  available_runs = R01\n",
      "  simulation_name = DD2_1.300_1.300_0.00_0.00_0.053\n",
      "  binary_type = BNS\n",
      "  reference_bibkeys = Radice:2016rys Radice:2017lry\n",
      "  id_code = LORENE\n",
      "  id_type = Irrotational\n",
      "  id_mass = 2.6\n",
      "  id_rest_mass = 2.83144\n",
      "  id_mass_ratio = 1.0\n",
      "  id_ADM_mass = 2.5796\n",
      "  id_ADM_angularmomentum = 6.60881\n",
      "  id_gw_frequency_Hz = 654.862\n",
      "  id_gw_frequency_Momega22 = 0.0526962046988\n",
      "  id_eos = DD2\n",
      "  id_kappa2T = 196.0638677357165\n",
      "  id_Lambda = 1045.6739612571548\n",
      "  id_eccentricity = \n",
      "  id_mass_starA = 1.3\n",
      "  id_rest_mass_starA = 1.41572\n",
      "  id_spin_starA = 0, 0, 0\n",
      "  id_LoveNum_kell_starA = 0.10267, 0.02781, 0.01024\n",
      "  id_Lambdaell_starA = 1045.6739612571548, 2671.7838008750186, 6628.5698390834705\n",
      "  id_mass_starB = 1.3\n",
      "  id_rest_mass_starB = 1.41572\n",
      "  id_spin_starB = 0, 0, 0\n",
      "  id_LoveNum_kell_starB = 0.10267, 0.02781, 0.01024\n",
      "  id_Lambdaell_starB = 1045.6739612571548, 2671.7838008750186, 6628.5698390834705\n",
      "  evolution_code = None\n",
      "  grid_refinement_levels = None\n",
      "  grid_refinement_levels_moving = None\n",
      "  grid_refinement_levels_npoints = None\n",
      "  grid_refinement_levels_moving_npoints = None\n",
      "  grid_spacing_min = None\n",
      "  grid_symmetries = None\n",
      "  grid_shells = None\n",
      "  grid_shells_radial_npoints = None\n",
      "  grid_shells_angular_npoints = None\n",
      "  grid_conservative_amr = None\n",
      "  subgrid_model = None\n",
      "  metric_scheme = None\n",
      "  metric_boundary_conditions = None\n",
      "  hydro_flux = None\n",
      "  hydro_reconstruction = None\n",
      "  hydro_atmosphere_level = None\n",
      "  hydro_atmosphere_factor = None\n",
      "  number_of_orbits = None\n",
      "  evolution_mol_scheme = None\n",
      "  eos_evolution_Gamma_thermal = None\n",
      "  neutrino_scheme = None\n",
      "  id_gw_NR_frequency_Hz = None\n",
      "  Hybrid_window_freq_Hz = None\n",
      "  TEOB_Lambda_starA = None\n",
      "  TEOB_Lambda_starB = None\n",
      "  TEOB_version = None\n",
      "  NR_simulation_key = None\n",
      "  database_key = THC:0013\n",
      "  available_runs = R01, R02\n",
      "  simulation_name = DD2_1.350_1.350_0.00_0.00_0.055\n",
      "  binary_type = BNS\n",
      "  reference_bibkeys = Radice:2016rys Radice:2017lry\n",
      "  id_code = LORENE\n",
      "  id_type = Irrotational\n",
      "  id_mass = 2.7\n",
      "  id_rest_mass = 2.94554\n",
      "  id_mass_ratio = 1.0\n",
      "  id_ADM_mass = 2.67288\n",
      "  id_ADM_angularmomentum = 7.01514\n",
      "  id_gw_frequency_Hz = 663.58\n",
      "  id_gw_frequency_Momega22 = 0.0554514940011\n",
      "  id_eos = DD2\n",
      "  id_kappa2T = 159.0084296249798\n",
      "  id_Lambda = 848.0449579998918\n",
      "  id_eccentricity = \n",
      "  id_mass_starA = 1.35\n",
      "  id_rest_mass_starA = 1.47277\n",
      "  id_spin_starA = 0, 0, 0\n",
      "  id_LoveNum_kell_starA = 0.09996, 0.0269, 0.00984\n",
      "  id_Lambdaell_starA = 848.0449579998921, 2001.0063178210328, 4584.234164607441\n",
      "  id_mass_starB = 1.35\n",
      "  id_rest_mass_starB = 1.47277\n",
      "  id_spin_starB = 0, 0, 0\n",
      "  id_LoveNum_kell_starB = 0.09996, 0.0269, 0.00984\n",
      "  id_Lambdaell_starB = 848.0449579998921, 2001.0063178210328, 4584.234164607441\n",
      "  evolution_code = None\n",
      "  grid_refinement_levels = None\n",
      "  grid_refinement_levels_moving = None\n",
      "  grid_refinement_levels_npoints = None\n",
      "  grid_refinement_levels_moving_npoints = None\n",
      "  grid_spacing_min = None\n",
      "  grid_symmetries = None\n",
      "  grid_shells = None\n",
      "  grid_shells_radial_npoints = None\n",
      "  grid_shells_angular_npoints = None\n",
      "  grid_conservative_amr = None\n",
      "  subgrid_model = None\n",
      "  metric_scheme = None\n",
      "  metric_boundary_conditions = None\n",
      "  hydro_flux = None\n",
      "  hydro_reconstruction = None\n",
      "  hydro_atmosphere_level = None\n",
      "  hydro_atmosphere_factor = None\n",
      "  number_of_orbits = None\n",
      "  evolution_mol_scheme = None\n",
      "  eos_evolution_Gamma_thermal = None\n",
      "  neutrino_scheme = None\n",
      "  id_gw_NR_frequency_Hz = None\n",
      "  Hybrid_window_freq_Hz = None\n",
      "  TEOB_Lambda_starA = None\n",
      "  TEOB_Lambda_starB = None\n",
      "  TEOB_version = None\n",
      "  NR_simulation_key = None\n",
      "  database_key = THC:0014\n",
      "  available_runs = R01\n",
      "  simulation_name = DD2_1.365_1.250_0.00_0.00_0.053\n",
      "  binary_type = BNS\n",
      "  reference_bibkeys = Radice:2016rys Radice:2017lry\n",
      "  id_code = LORENE\n",
      "  id_type = Irrotational\n",
      "  id_mass = 2.615\n",
      "  id_rest_mass = 2.84344\n",
      "  id_mass_ratio = 1.092\n",
      "  id_ADM_mass = 2.58906\n",
      "  id_ADM_angularmomentum = 6.63885\n",
      "  id_gw_frequency_Hz = 656\n",
      "  id_gw_frequency_Momega22 = 0.0530923234963\n",
      "  id_eos = DD2\n",
      "  id_kappa2T = 190.76860956190075\n",
      "  id_Lambda = 1016.9753576332756\n",
      "  id_eccentricity = \n",
      "  id_mass_starA = 1.365\n",
      "  id_rest_mass_starA = 1.49103\n",
      "  id_spin_starA = 0, 0, 0\n",
      "  id_LoveNum_kell_starA = 0.09914, 0.02663, 0.00972\n",
      "  id_Lambdaell_starA = 797.1340585207874, 1837.5243240619836, 4111.304457549288\n",
      "  id_mass_starB = 1.25\n",
      "  id_rest_mass_starB = 1.35241\n",
      "  id_spin_starB = 0, 0, 0\n",
      "  id_LoveNum_kell_starB = 0.10517, 0.02864, 0.01061\n",
      "  id_Lambdaell_starB = 1295.2999138045457, 3590.1232699912975, 9669.000432709556\n",
      "  evolution_code = None\n",
      "  grid_refinement_levels = None\n",
      "  grid_refinement_levels_moving = None\n",
      "  grid_refinement_levels_npoints = None\n",
      "  grid_refinement_levels_moving_npoints = None\n",
      "  grid_spacing_min = None\n",
      "  grid_symmetries = None\n",
      "  grid_shells = None\n",
      "  grid_shells_radial_npoints = None\n",
      "  grid_shells_angular_npoints = None\n",
      "  grid_conservative_amr = None\n",
      "  subgrid_model = None\n",
      "  metric_scheme = None\n",
      "  metric_boundary_conditions = None\n",
      "  hydro_flux = None\n",
      "  hydro_reconstruction = None\n",
      "  hydro_atmosphere_level = None\n",
      "  hydro_atmosphere_factor = None\n",
      "  number_of_orbits = None\n",
      "  evolution_mol_scheme = None\n",
      "  eos_evolution_Gamma_thermal = None\n",
      "  neutrino_scheme = None\n",
      "  id_gw_NR_frequency_Hz = None\n",
      "  Hybrid_window_freq_Hz = None\n",
      "  TEOB_Lambda_starA = None\n",
      "  TEOB_Lambda_starB = None\n",
      "  TEOB_version = None\n",
      "  NR_simulation_key = None\n",
      "  database_key = THC:0015\n",
      "  available_runs = R01\n",
      "  simulation_name = DD2_1.400_1.200_0.00_0.00_0.053\n",
      "  binary_type = BNS\n",
      "  reference_bibkeys = Radice:2016rys Radice:2017lry\n",
      "  id_code = LORENE\n",
      "  id_type = Irrotational\n",
      "  id_mass = 2.6\n",
      "  id_rest_mass = 2.82946\n",
      "  id_mass_ratio = 1.16666666667\n",
      "  id_ADM_mass = 2.57644\n",
      "  id_ADM_angularmomentum = 6.53749\n",
      "  id_gw_frequency_Hz = 652.714\n",
      "  id_gw_frequency_Momega22 = 0.0525233569115\n",
      "  id_eos = DD2\n",
      "  id_kappa2T = 198.5671528237351\n",
      "  id_Lambda = 1057.5952309682204\n",
      "  id_eccentricity = \n",
      "  id_mass_starA = 1.4\n",
      "  id_rest_mass_starA = 1.53253\n",
      "  id_spin_starA = 0, 0, 0\n",
      "  id_LoveNum_kell_starA = 0.09713, 0.02596, 0.00942\n",
      "  id_Lambdaell_starA = 690.6300963090755, 1508.0652869857847, 3193.461363781705\n",
      "  id_mass_starB = 1.2\n",
      "  id_rest_mass_starB = 1.29693\n",
      "  id_spin_starB = 0, 0, 0\n",
      "  id_LoveNum_kell_starB = 0.10752, 0.02943, 0.01096\n",
      "  id_Lambdaell_starB = 1612.2480295082821, 4859.330076873647, 14233.516050669448\n",
      "  evolution_code = None\n",
      "  grid_refinement_levels = None\n",
      "  grid_refinement_levels_moving = None\n",
      "  grid_refinement_levels_npoints = None\n",
      "  grid_refinement_levels_moving_npoints = None\n",
      "  grid_spacing_min = None\n",
      "  grid_symmetries = None\n",
      "  grid_shells = None\n",
      "  grid_shells_radial_npoints = None\n",
      "  grid_shells_angular_npoints = None\n",
      "  grid_conservative_amr = None\n",
      "  subgrid_model = None\n",
      "  metric_scheme = None\n",
      "  metric_boundary_conditions = None\n",
      "  hydro_flux = None\n",
      "  hydro_reconstruction = None\n",
      "  hydro_atmosphere_level = None\n",
      "  hydro_atmosphere_factor = None\n",
      "  number_of_orbits = None\n",
      "  evolution_mol_scheme = None\n",
      "  eos_evolution_Gamma_thermal = None\n",
      "  neutrino_scheme = None\n",
      "  id_gw_NR_frequency_Hz = None\n",
      "  Hybrid_window_freq_Hz = None\n",
      "  TEOB_Lambda_starA = None\n",
      "  TEOB_Lambda_starB = None\n",
      "  TEOB_version = None\n",
      "  NR_simulation_key = None\n",
      "  database_key = THC:0016\n",
      "  available_runs = R01, R02\n",
      "  simulation_name = DD2_1.400_1.400_0.00_0.00_0.058\n",
      "  binary_type = BNS\n",
      "  reference_bibkeys = Radice:2016rys Radice:2017lry\n",
      "  id_code = LORENE\n",
      "  id_type = Irrotational\n",
      "  id_mass = 2.8\n",
      "  id_rest_mass = 3.06508\n",
      "  id_mass_ratio = 1.0\n",
      "  id_ADM_mass = 2.77062\n",
      "  id_ADM_angularmomentum = 7.44301\n",
      "  id_gw_frequency_Hz = 671.364\n",
      "  id_gw_frequency_Momega22 = 0.0581798075601\n",
      "  id_eos = DD2\n",
      "  id_kappa2T = 129.4931430579516\n",
      "  id_Lambda = 690.6300963090752\n",
      "  id_eccentricity = \n",
      "  id_mass_starA = 1.4\n",
      "  id_rest_mass_starA = 1.53254\n",
      "  id_spin_starA = 0, 0, 0\n",
      "  id_LoveNum_kell_starA = 0.09713, 0.02596, 0.00942\n",
      "  id_Lambdaell_starA = 690.6300963090755, 1508.0652869857847, 3193.461363781705\n",
      "  id_mass_starB = 1.4\n",
      "  id_rest_mass_starB = 1.53254\n",
      "  id_spin_starB = 0, 0, 0\n",
      "  id_LoveNum_kell_starB = 0.09713, 0.02596, 0.00942\n",
      "  id_Lambdaell_starB = 690.6300963090755, 1508.0652869857847, 3193.461363781705\n",
      "  evolution_code = None\n",
      "  grid_refinement_levels = None\n",
      "  grid_refinement_levels_moving = None\n",
      "  grid_refinement_levels_npoints = None\n",
      "  grid_refinement_levels_moving_npoints = None\n",
      "  grid_spacing_min = None\n",
      "  grid_symmetries = None\n",
      "  grid_shells = None\n",
      "  grid_shells_radial_npoints = None\n",
      "  grid_shells_angular_npoints = None\n",
      "  grid_conservative_amr = None\n",
      "  subgrid_model = None\n",
      "  metric_scheme = None\n",
      "  metric_boundary_conditions = None\n",
      "  hydro_flux = None\n",
      "  hydro_reconstruction = None\n",
      "  hydro_atmosphere_level = None\n",
      "  hydro_atmosphere_factor = None\n",
      "  number_of_orbits = None\n",
      "  evolution_mol_scheme = None\n",
      "  eos_evolution_Gamma_thermal = None\n",
      "  neutrino_scheme = None\n",
      "  id_gw_NR_frequency_Hz = None\n",
      "  Hybrid_window_freq_Hz = None\n",
      "  TEOB_Lambda_starA = None\n",
      "  TEOB_Lambda_starB = None\n",
      "  TEOB_version = None\n",
      "  NR_simulation_key = None\n",
      "  database_key = THC:0017\n",
      "  available_runs = R01\n",
      "  simulation_name = DD2_1.500_1.500_0.00_0.00_0.064\n",
      "  binary_type = BNS\n",
      "  reference_bibkeys = Radice:2016rys Radice:2017lry\n",
      "  id_code = LORENE\n",
      "  id_type = Irrotational\n",
      "  id_mass = 3.0\n",
      "  id_rest_mass = 3.313\n",
      "  id_mass_ratio = 1.0\n",
      "  id_ADM_mass = 2.9703\n",
      "  id_ADM_angularmomentum = 8.39708\n",
      "  id_gw_frequency_Hz = 689.77\n",
      "  id_gw_frequency_Momega22 = 0.0640444876732\n",
      "  id_eos = DD2\n",
      "  id_kappa2T = 86.72854370841495\n",
      "  id_Lambda = 462.5522331115464\n",
      "  id_eccentricity = \n",
      "  id_mass_starA = 1.5\n",
      "  id_rest_mass_starA = 1.6565\n",
      "  id_spin_starA = 0, 0, 0\n",
      "  id_LoveNum_kell_starA = 0.09118, 0.024, 0.00857\n",
      "  id_Lambdaell_starA = 462.55223311154634, 869.0472962917256, 1582.18015973377\n",
      "  id_mass_starB = 1.5\n",
      "  id_rest_mass_starB = 1.6565\n",
      "  id_spin_starB = 0, 0, 0\n",
      "  id_LoveNum_kell_starB = 0.09118, 0.024, 0.00857\n",
      "  id_Lambdaell_starB = 462.55223311154634, 869.0472962917256, 1582.18015973377\n",
      "  evolution_code = None\n",
      "  grid_refinement_levels = None\n",
      "  grid_refinement_levels_moving = None\n",
      "  grid_refinement_levels_npoints = None\n",
      "  grid_refinement_levels_moving_npoints = None\n",
      "  grid_spacing_min = None\n",
      "  grid_symmetries = None\n",
      "  grid_shells = None\n",
      "  grid_shells_radial_npoints = None\n",
      "  grid_shells_angular_npoints = None\n",
      "  grid_conservative_amr = None\n",
      "  subgrid_model = None\n",
      "  metric_scheme = None\n",
      "  metric_boundary_conditions = None\n",
      "  hydro_flux = None\n",
      "  hydro_reconstruction = None\n",
      "  hydro_atmosphere_level = None\n",
      "  hydro_atmosphere_factor = None\n",
      "  number_of_orbits = None\n",
      "  evolution_mol_scheme = None\n",
      "  eos_evolution_Gamma_thermal = None\n",
      "  neutrino_scheme = None\n",
      "  id_gw_NR_frequency_Hz = None\n",
      "  Hybrid_window_freq_Hz = None\n",
      "  TEOB_Lambda_starA = None\n",
      "  TEOB_Lambda_starB = None\n",
      "  TEOB_version = None\n",
      "  NR_simulation_key = None\n",
      "  database_key = THC:0040\n",
      "  available_runs = R01\n",
      "  simulation_name = DD2_1.432_1.300_0.00_0.00_0.048_M0\n",
      "  binary_type = BNS\n",
      "  reference_bibkeys = Nedora:2020hxc\n",
      "  id_code = LORENE\n",
      "  id_type = Irrotational\n",
      "  id_mass = 2.732\n",
      "  id_rest_mass = 4.0343645690674\n",
      "  id_mass_ratio = 1.1055\n",
      "  id_ADM_mass = 2.70722\n",
      "  id_ADM_angularmomentum = 7.4062\n",
      "  id_gw_frequency_Hz = 565.32\n",
      "  id_gw_frequency_Momega22 = 0.047800368497437205\n",
      "  id_eos = DD2\n",
      "  id_kappa2T = 30.59477259777671\n",
      "  id_Lambda = 163.4059912271624\n",
      "  id_eccentricity = \n",
      "  id_mass_starA = 1.432\n",
      "  id_rest_mass_starA = 2.0171822845337\n",
      "  id_spin_starA = 0,0,0\n",
      "  id_LoveNum_kell_starA = 0.0742514294186662,0.0186259158562705,0.00631911564617322\n",
      "  id_Lambdaell_starA = 162.41646633663714,207.72055300866853,256.6413883530562\n",
      "  id_mass_starB = 1.3\n",
      "  id_rest_mass_starB = 2.0171822845337\n",
      "  id_spin_starB = 0,0,0\n",
      "  id_LoveNum_kell_starB = 0.0742514294186662,0.0186259158562705,0.00631911564617322\n",
      "  id_Lambdaell_starB = 162.41646633663714,207.72055300866853,256.6413883530562\n",
      "  evolution_code = None\n",
      "  grid_refinement_levels = None\n",
      "  grid_refinement_levels_moving = None\n",
      "  grid_refinement_levels_npoints = None\n",
      "  grid_refinement_levels_moving_npoints = None\n",
      "  grid_spacing_min = None\n",
      "  grid_symmetries = None\n",
      "  grid_shells = None\n",
      "  grid_shells_radial_npoints = None\n",
      "  grid_shells_angular_npoints = None\n",
      "  grid_conservative_amr = None\n",
      "  subgrid_model = None\n",
      "  metric_scheme = None\n",
      "  metric_boundary_conditions = None\n",
      "  hydro_flux = None\n",
      "  hydro_reconstruction = None\n",
      "  hydro_atmosphere_level = None\n",
      "  hydro_atmosphere_factor = None\n",
      "  number_of_orbits = None\n",
      "  evolution_mol_scheme = None\n",
      "  eos_evolution_Gamma_thermal = None\n",
      "  neutrino_scheme = None\n",
      "  id_gw_NR_frequency_Hz = None\n",
      "  Hybrid_window_freq_Hz = None\n",
      "  TEOB_Lambda_starA = None\n",
      "  TEOB_Lambda_starB = None\n",
      "  TEOB_version = None\n",
      "  NR_simulation_key = None\n",
      "  database_key = THC:0041\n",
      "  available_runs = R01, R02\n",
      "  simulation_name = DD2_1.486_1.254_0.00_0.00_0.024_M0\n",
      "  binary_type = BNS\n",
      "  reference_bibkeys = Nedora:2020hxc\n",
      "  id_code = LORENE\n",
      "  id_type = Irrotational\n",
      "  id_mass = 2.74\n",
      "  id_rest_mass = 4.0343645690674\n",
      "  id_mass_ratio = 1.185\n",
      "  id_ADM_mass = 2.71388\n",
      "  id_ADM_angularmomentum = 7.40895\n",
      "  id_gw_frequency_Hz = 283.32\n",
      "  id_gw_frequency_Momega22 = 0.024026139552947395\n",
      "  id_eos = DD2\n",
      "  id_kappa2T = 30.885044436705044\n",
      "  id_Lambda = 165.44193250349423\n",
      "  id_eccentricity = \n",
      "  id_mass_starA = 1.486\n",
      "  id_rest_mass_starA = 2.0171822845337\n",
      "  id_spin_starA = 0,0,0\n",
      "  id_LoveNum_kell_starA = 0.0742514294186662,0.0186259158562705,0.00631911564617322\n",
      "  id_Lambdaell_starA = 162.41646633663714,207.72055300866853,256.6413883530562\n",
      "  id_mass_starB = 1.254\n",
      "  id_rest_mass_starB = 2.0171822845337\n",
      "  id_spin_starB = 0,0,0\n",
      "  id_LoveNum_kell_starB = 0.0742514294186662,0.0186259158562705,0.00631911564617322\n",
      "  id_Lambdaell_starB = 162.41646633663714,207.72055300866853,256.6413883530562\n",
      "  evolution_code = None\n",
      "  grid_refinement_levels = None\n",
      "  grid_refinement_levels_moving = None\n",
      "  grid_refinement_levels_npoints = None\n",
      "  grid_refinement_levels_moving_npoints = None\n",
      "  grid_spacing_min = None\n",
      "  grid_symmetries = None\n",
      "  grid_shells = None\n",
      "  grid_shells_radial_npoints = None\n",
      "  grid_shells_angular_npoints = None\n",
      "  grid_conservative_amr = None\n",
      "  subgrid_model = None\n",
      "  metric_scheme = None\n",
      "  metric_boundary_conditions = None\n",
      "  hydro_flux = None\n",
      "  hydro_reconstruction = None\n",
      "  hydro_atmosphere_level = None\n",
      "  hydro_atmosphere_factor = None\n",
      "  number_of_orbits = None\n",
      "  evolution_mol_scheme = None\n",
      "  eos_evolution_Gamma_thermal = None\n",
      "  neutrino_scheme = None\n",
      "  id_gw_NR_frequency_Hz = None\n",
      "  Hybrid_window_freq_Hz = None\n",
      "  TEOB_Lambda_starA = None\n",
      "  TEOB_Lambda_starB = None\n",
      "  TEOB_version = None\n",
      "  NR_simulation_key = None\n",
      "  database_key = THC:0042\n",
      "  available_runs = R01, R02\n",
      "  simulation_name = DD2_1.497_1.245_0.00_0.00_0.024_M0\n",
      "  binary_type = BNS\n",
      "  reference_bibkeys = Nedora:2020hxc\n",
      "  id_code = LORENE\n",
      "  id_type = Irrotational\n",
      "  id_mass = 2.742\n",
      "  id_rest_mass = 4.0343645690674\n",
      "  id_mass_ratio = 1.2024\n",
      "  id_ADM_mass = 2.717\n",
      "  id_ADM_angularmomentum = 7.405\n",
      "  id_gw_frequency_Hz = 283.19\n",
      "  id_gw_frequency_Momega22 = 0.024032644557233435\n",
      "  id_eos = DD2\n",
      "  id_kappa2T = 30.961001322710587\n",
      "  id_Lambda = 165.97666589717056\n",
      "  id_eccentricity = \n",
      "  id_mass_starA = 1.497\n",
      "  id_rest_mass_starA = 2.0171822845337\n",
      "  id_spin_starA = 0,0,0\n",
      "  id_LoveNum_kell_starA = 0.0742514294186662,0.0186259158562705,0.00631911564617322\n",
      "  id_Lambdaell_starA = 162.41646633663714,207.72055300866853,256.6413883530562\n",
      "  id_mass_starB = 1.245\n",
      "  id_rest_mass_starB = 2.0171822845337\n",
      "  id_spin_starB = 0,0,0\n",
      "  id_LoveNum_kell_starB = 0.0742514294186662,0.0186259158562705,0.00631911564617322\n",
      "  id_Lambdaell_starB = 162.41646633663714,207.72055300866853,256.6413883530562\n",
      "  evolution_code = None\n",
      "  grid_refinement_levels = None\n",
      "  grid_refinement_levels_moving = None\n",
      "  grid_refinement_levels_npoints = None\n",
      "  grid_refinement_levels_moving_npoints = None\n",
      "  grid_spacing_min = None\n",
      "  grid_symmetries = None\n",
      "  grid_shells = None\n",
      "  grid_shells_radial_npoints = None\n",
      "  grid_shells_angular_npoints = None\n",
      "  grid_conservative_amr = None\n",
      "  subgrid_model = None\n",
      "  metric_scheme = None\n",
      "  metric_boundary_conditions = None\n",
      "  hydro_flux = None\n",
      "  hydro_reconstruction = None\n",
      "  hydro_atmosphere_level = None\n",
      "  hydro_atmosphere_factor = None\n",
      "  number_of_orbits = None\n",
      "  evolution_mol_scheme = None\n",
      "  eos_evolution_Gamma_thermal = None\n",
      "  neutrino_scheme = None\n",
      "  id_gw_NR_frequency_Hz = None\n",
      "  Hybrid_window_freq_Hz = None\n",
      "  TEOB_Lambda_starA = None\n",
      "  TEOB_Lambda_starB = None\n",
      "  TEOB_version = None\n",
      "  NR_simulation_key = None\n",
      "  database_key = THC:0043\n",
      "  available_runs = R01, R02, R03\n",
      "  simulation_name = DD2_1.509_1.235_0.00_0.00_0.024_M0_LK\n",
      "  binary_type = BNS\n",
      "  reference_bibkeys = Nedora:2020hxc\n",
      "  id_code = LORENE\n",
      "  id_type = Irrotational\n",
      "  id_mass = 2.7439999999999998\n",
      "  id_rest_mass = 4.0343645690674\n",
      "  id_mass_ratio = 1.2219\n",
      "  id_ADM_mass = 2.719\n",
      "  id_ADM_angularmomentum = 7.405\n",
      "  id_gw_frequency_Hz = 283.28\n",
      "  id_gw_frequency_Momega22 = 0.024057817172068365\n",
      "  id_eos = DD2\n",
      "  id_kappa2T = 31.051292018994573\n",
      "  id_Lambda = 166.61340159304467\n",
      "  id_eccentricity = \n",
      "  id_mass_starA = 1.509\n",
      "  id_rest_mass_starA = 2.0171822845337\n",
      "  id_spin_starA = 0,0,0\n",
      "  id_LoveNum_kell_starA = 0.0742514294186662,0.0186259158562705,0.00631911564617322\n",
      "  id_Lambdaell_starA = 162.41646633663714,207.72055300866853,256.6413883530562\n",
      "  id_mass_starB = 1.235\n",
      "  id_rest_mass_starB = 2.0171822845337\n",
      "  id_spin_starB = 0,0,0\n",
      "  id_LoveNum_kell_starB = 0.0742514294186662,0.0186259158562705,0.00631911564617322\n",
      "  id_Lambdaell_starB = 162.41646633663714,207.72055300866853,256.6413883530562\n",
      "  evolution_code = None\n",
      "  grid_refinement_levels = None\n",
      "  grid_refinement_levels_moving = None\n",
      "  grid_refinement_levels_npoints = None\n",
      "  grid_refinement_levels_moving_npoints = None\n",
      "  grid_spacing_min = None\n",
      "  grid_symmetries = None\n",
      "  grid_shells = None\n",
      "  grid_shells_radial_npoints = None\n",
      "  grid_shells_angular_npoints = None\n",
      "  grid_conservative_amr = None\n",
      "  subgrid_model = None\n",
      "  metric_scheme = None\n",
      "  metric_boundary_conditions = None\n",
      "  hydro_flux = None\n",
      "  hydro_reconstruction = None\n",
      "  hydro_atmosphere_level = None\n",
      "  hydro_atmosphere_factor = None\n",
      "  number_of_orbits = None\n",
      "  evolution_mol_scheme = None\n",
      "  eos_evolution_Gamma_thermal = None\n",
      "  neutrino_scheme = None\n",
      "  id_gw_NR_frequency_Hz = None\n",
      "  Hybrid_window_freq_Hz = None\n",
      "  TEOB_Lambda_starA = None\n",
      "  TEOB_Lambda_starB = None\n",
      "  TEOB_version = None\n",
      "  NR_simulation_key = None\n",
      "  database_key = THC:0047\n",
      "  available_runs = R01, R02\n",
      "  simulation_name = DD2_1.437_1.914_0.00_0.00_0.063_M0\n",
      "  binary_type = BNS\n",
      "  reference_bibkeys = Camilletti:2022jms\n",
      "  id_code = LORENE\n",
      "  id_type = Irrotational\n",
      "  id_mass = 3.351\n",
      "  id_rest_mass = 3.1899800000000003\n",
      "  id_mass_ratio = 1.33\n",
      "  id_ADM_mass = 3.312\n",
      "  id_ADM_angularmomentum = 10.241\n",
      "  id_gw_frequency_Hz = 610.536\n",
      "  id_gw_frequency_Momega22 = 0.06332014551105629\n",
      "  id_eos = DD2\n",
      "  id_kappa2T = 47.97558900255969\n",
      "  id_Lambda = 254.0852747705095\n",
      "  id_eccentricity = \n",
      "  id_mass_starA = 1.437\n",
      "  id_rest_mass_starA = 1.36361\n",
      "  id_spin_starA = 0, 0, 0\n",
      "  id_LoveNum_kell_starA = 0.09615772354247049, 0.02566645741897816, 0.009302793873086329\n",
      "  id_Lambdaell_starA = 602.0690457367236, 1247.841444452354, 2508.4773738650474\n",
      "  id_mass_starB = 1.914\n",
      "  id_rest_mass_starB = 1.82637\n",
      "  id_spin_starB = 0, 0, 0\n",
      "  id_LoveNum_kell_starB = 0.06459394585665369, 0.015689673470282172, 0.005141786288203453\n",
      "  id_Lambdaell_starB = 95.59101926686482, 101.25017737966976, 103.35333233485984\n",
      "  evolution_code = None\n",
      "  grid_refinement_levels = None\n",
      "  grid_refinement_levels_moving = None\n",
      "  grid_refinement_levels_npoints = None\n",
      "  grid_refinement_levels_moving_npoints = None\n",
      "  grid_spacing_min = None\n",
      "  grid_symmetries = None\n",
      "  grid_shells = None\n",
      "  grid_shells_radial_npoints = None\n",
      "  grid_shells_angular_npoints = None\n",
      "  grid_conservative_amr = None\n",
      "  subgrid_model = None\n",
      "  metric_scheme = None\n",
      "  metric_boundary_conditions = None\n",
      "  hydro_flux = None\n",
      "  hydro_reconstruction = None\n",
      "  hydro_atmosphere_level = None\n",
      "  hydro_atmosphere_factor = None\n",
      "  number_of_orbits = None\n",
      "  evolution_mol_scheme = None\n",
      "  eos_evolution_Gamma_thermal = None\n",
      "  neutrino_scheme = None\n",
      "  id_gw_NR_frequency_Hz = None\n",
      "  Hybrid_window_freq_Hz = None\n",
      "  TEOB_Lambda_starA = None\n",
      "  TEOB_Lambda_starB = None\n",
      "  TEOB_version = None\n",
      "  NR_simulation_key = None\n",
      "  database_key = THC:0048\n",
      "  available_runs = R01, R02\n",
      "  simulation_name = DD2_1.654_1.654_0.00_0.00_0.062_M0\n",
      "  binary_type = BNS\n",
      "  reference_bibkeys = Camilletti:2022jms\n",
      "  id_code = LORENE\n",
      "  id_type = Irrotational\n",
      "  id_mass = 3.308\n",
      "  id_rest_mass = 3.14784\n",
      "  id_mass_ratio = 1.0\n",
      "  id_ADM_mass = 3.27\n",
      "  id_ADM_angularmomentum = 10.229\n",
      "  id_gw_frequency_Hz = 607.844\n",
      "  id_gw_frequency_Momega22 = 0.0622320108759371\n",
      "  id_eos = DD2\n",
      "  id_kappa2T = 48.36958782855553\n",
      "  id_Lambda = 257.9711350856296\n",
      "  id_eccentricity = \n",
      "  id_mass_starA = 1.654\n",
      "  id_rest_mass_starA = 1.57392\n",
      "  id_spin_starA = 0, 0, 0\n",
      "  id_LoveNum_kell_starA = 0.08227356520690156, 0.021140728781577894, 0.007359154719980631\n",
      "  id_Lambdaell_starA = 257.97113508562956, 390.3206876079845, 571.4685463633073\n",
      "  id_mass_starB = 1.654\n",
      "  id_rest_mass_starB = 1.57392\n",
      "  id_spin_starB = 0, 0, 0\n",
      "  id_LoveNum_kell_starB = 0.08227356520690156, 0.021140728781577894, 0.007359154719980631\n",
      "  id_Lambdaell_starB = 257.97113508562956, 390.3206876079845, 571.4685463633073\n",
      "  evolution_code = None\n",
      "  grid_refinement_levels = None\n",
      "  grid_refinement_levels_moving = None\n",
      "  grid_refinement_levels_npoints = None\n",
      "  grid_refinement_levels_moving_npoints = None\n",
      "  grid_spacing_min = None\n",
      "  grid_symmetries = None\n",
      "  grid_shells = None\n",
      "  grid_shells_radial_npoints = None\n",
      "  grid_shells_angular_npoints = None\n",
      "  grid_conservative_amr = None\n",
      "  subgrid_model = None\n",
      "  metric_scheme = None\n",
      "  metric_boundary_conditions = None\n",
      "  hydro_flux = None\n",
      "  hydro_reconstruction = None\n",
      "  hydro_atmosphere_level = None\n",
      "  hydro_atmosphere_factor = None\n",
      "  number_of_orbits = None\n",
      "  evolution_mol_scheme = None\n",
      "  eos_evolution_Gamma_thermal = None\n",
      "  neutrino_scheme = None\n",
      "  id_gw_NR_frequency_Hz = None\n",
      "  Hybrid_window_freq_Hz = None\n",
      "  TEOB_Lambda_starA = None\n",
      "  TEOB_Lambda_starB = None\n",
      "  TEOB_version = None\n",
      "  NR_simulation_key = None\n",
      "  database_key = THC:0055\n",
      "  available_runs = R01, R02\n",
      "  simulation_name = DD2_1.635_1.146_0.00_0.00_0.025_M0_LK\n",
      "  binary_type = BNS\n",
      "  reference_bibkeys = Nedora:2020hxc\n",
      "  id_code = LORENE\n",
      "  id_type = Irrotational\n",
      "  id_mass = 2.7809999999999997\n",
      "  id_rest_mass = 4.0343645690674\n",
      "  id_mass_ratio = 1.4267\n",
      "  id_ADM_mass = 2.75582\n",
      "  id_ADM_angularmomentum = 7.40757\n",
      "  id_gw_frequency_Hz = 284.661\n",
      "  id_gw_frequency_Momega22 = 0.02450107608104788\n",
      "  id_eos = DD2\n",
      "  id_kappa2T = 32.24886926105347\n",
      "  id_Lambda = 175.17975602400338\n",
      "  id_eccentricity = \n",
      "  id_mass_starA = 1.635\n",
      "  id_rest_mass_starA = 2.0171822845337\n",
      "  id_spin_starA = 0,0,0\n",
      "  id_LoveNum_kell_starA = 0.0742514294186662,0.0186259158562705,0.00631911564617322\n",
      "  id_Lambdaell_starA = 162.41646633663714,207.72055300866853,256.6413883530562\n",
      "  id_mass_starB = 1.146\n",
      "  id_rest_mass_starB = 2.0171822845337\n",
      "  id_spin_starB = 0,0,0\n",
      "  id_LoveNum_kell_starB = 0.0742514294186662,0.0186259158562705,0.00631911564617322\n",
      "  id_Lambdaell_starB = 162.41646633663714,207.72055300866853,256.6413883530562\n",
      "  evolution_code = None\n",
      "  grid_refinement_levels = None\n",
      "  grid_refinement_levels_moving = None\n",
      "  grid_refinement_levels_npoints = None\n",
      "  grid_refinement_levels_moving_npoints = None\n",
      "  grid_spacing_min = None\n",
      "  grid_symmetries = None\n",
      "  grid_shells = None\n",
      "  grid_shells_radial_npoints = None\n",
      "  grid_shells_angular_npoints = None\n",
      "  grid_conservative_amr = None\n",
      "  subgrid_model = None\n",
      "  metric_scheme = None\n",
      "  metric_boundary_conditions = None\n",
      "  hydro_flux = None\n",
      "  hydro_reconstruction = None\n",
      "  hydro_atmosphere_level = None\n",
      "  hydro_atmosphere_factor = None\n",
      "  number_of_orbits = None\n",
      "  evolution_mol_scheme = None\n",
      "  eos_evolution_Gamma_thermal = None\n",
      "  neutrino_scheme = None\n",
      "  id_gw_NR_frequency_Hz = None\n",
      "  Hybrid_window_freq_Hz = None\n",
      "  TEOB_Lambda_starA = None\n",
      "  TEOB_Lambda_starB = None\n",
      "  TEOB_version = None\n",
      "  NR_simulation_key = None\n",
      "  database_key = THC:0066\n",
      "  available_runs = R01\n",
      "  simulation_name = DD2_1.364_1.364_0.00_0.00_0.048_M0\n",
      "  binary_type = BNS\n",
      "  reference_bibkeys = Nedora:2020hxc\n",
      "  id_code = LORENE\n",
      "  id_type = Irrotational\n",
      "  id_mass = 2.728\n",
      "  id_rest_mass = 4.0343645690674\n",
      "  id_mass_ratio = 1.0\n",
      "  id_ADM_mass = 2.704\n",
      "  id_ADM_angularmomentum = 7.4056\n",
      "  id_gw_frequency_Hz = 565.32\n",
      "  id_gw_frequency_Momega22 = 0.04773038259919791\n",
      "  id_eos = DD2\n",
      "  id_kappa2T = 30.453087438119464\n",
      "  id_Lambda = 162.41646633663714\n",
      "  id_eccentricity = \n",
      "  id_mass_starA = 1.364\n",
      "  id_rest_mass_starA = 2.0171822845337\n",
      "  id_spin_starA = 0,0,0\n",
      "  id_LoveNum_kell_starA = 0.0742514294186662,0.0186259158562705,0.00631911564617322\n",
      "  id_Lambdaell_starA = 162.41646633663714,207.72055300866853,256.6413883530562\n",
      "  id_mass_starB = 1.364\n",
      "  id_rest_mass_starB = 2.0171822845337\n",
      "  id_spin_starB = 0,0,0\n",
      "  id_LoveNum_kell_starB = 0.0742514294186662,0.0186259158562705,0.00631911564617322\n",
      "  id_Lambdaell_starB = 162.41646633663714,207.72055300866853,256.6413883530562\n",
      "  evolution_code = None\n",
      "  grid_refinement_levels = None\n",
      "  grid_refinement_levels_moving = None\n",
      "  grid_refinement_levels_npoints = None\n",
      "  grid_refinement_levels_moving_npoints = None\n",
      "  grid_spacing_min = None\n",
      "  grid_symmetries = None\n",
      "  grid_shells = None\n",
      "  grid_shells_radial_npoints = None\n",
      "  grid_shells_angular_npoints = None\n",
      "  grid_conservative_amr = None\n",
      "  subgrid_model = None\n",
      "  metric_scheme = None\n",
      "  metric_boundary_conditions = None\n",
      "  hydro_flux = None\n",
      "  hydro_reconstruction = None\n",
      "  hydro_atmosphere_level = None\n",
      "  hydro_atmosphere_factor = None\n",
      "  number_of_orbits = None\n",
      "  evolution_mol_scheme = None\n",
      "  eos_evolution_Gamma_thermal = None\n",
      "  neutrino_scheme = None\n",
      "  id_gw_NR_frequency_Hz = None\n",
      "  Hybrid_window_freq_Hz = None\n",
      "  TEOB_Lambda_starA = None\n",
      "  TEOB_Lambda_starB = None\n",
      "  TEOB_version = None\n",
      "  NR_simulation_key = None\n",
      "  database_key = THC:0071\n",
      "  available_runs = R01, R02\n",
      "  simulation_name = DD2_1.289_2.149_0.00_0.00_0.066_M0\n",
      "  binary_type = BNS\n",
      "  reference_bibkeys = Camilletti:2022jms\n",
      "  id_code = LORENE\n",
      "  id_type = Irrotational\n",
      "  id_mass = 3.4379999999999997\n",
      "  id_rest_mass = 3.2782899999999997\n",
      "  id_mass_ratio = 1.67\n",
      "  id_ADM_mass = 3.4\n",
      "  id_ADM_angularmomentum = 10.253\n",
      "  id_gw_frequency_Hz = 616.246\n",
      "  id_gw_frequency_Momega22 = 0.06557166101138513\n",
      "  id_eos = DD2\n",
      "  id_kappa2T = 47.39406857039574\n",
      "  id_Lambda = 247.76217778112334\n",
      "  id_eccentricity = \n",
      "  id_mass_starA = 1.289\n",
      "  id_rest_mass_starA = 1.22355\n",
      "  id_spin_starA = 0, 0, 0\n",
      "  id_LoveNum_kell_starA = 0.10475065092002878, 0.028555975151251474, 0.01058492049996394\n",
      "  id_Lambdaell_starA = 1108.0223789990844, 2892.7574251903616, 7334.960956070095\n",
      "  id_mass_starB = 2.149\n",
      "  id_rest_mass_starB = 2.05474\n",
      "  id_spin_starB = 0, 0, 0\n",
      "  id_LoveNum_kell_starB = 0.04766241522888964, 0.010849248703472503, 0.0033102136399217434\n",
      "  id_Lambdaell_starB = 36.905367083965395, 28.271251963797493, 20.735058130486834\n",
      "  evolution_code = None\n",
      "  grid_refinement_levels = None\n",
      "  grid_refinement_levels_moving = None\n",
      "  grid_refinement_levels_npoints = None\n",
      "  grid_refinement_levels_moving_npoints = None\n",
      "  grid_spacing_min = None\n",
      "  grid_symmetries = None\n",
      "  grid_shells = None\n",
      "  grid_shells_radial_npoints = None\n",
      "  grid_shells_angular_npoints = None\n",
      "  grid_conservative_amr = None\n",
      "  subgrid_model = None\n",
      "  metric_scheme = None\n",
      "  metric_boundary_conditions = None\n",
      "  hydro_flux = None\n",
      "  hydro_reconstruction = None\n",
      "  hydro_atmosphere_level = None\n",
      "  hydro_atmosphere_factor = None\n",
      "  number_of_orbits = None\n",
      "  evolution_mol_scheme = None\n",
      "  eos_evolution_Gamma_thermal = None\n",
      "  neutrino_scheme = None\n",
      "  id_gw_NR_frequency_Hz = None\n",
      "  Hybrid_window_freq_Hz = None\n",
      "  TEOB_Lambda_starA = None\n",
      "  TEOB_Lambda_starB = None\n",
      "  TEOB_version = None\n",
      "  NR_simulation_key = None\n",
      "  database_key = THC:0072\n",
      "  available_runs = R01, R02\n",
      "  simulation_name = DD2_1.527_1.795_0.00_0.00_0.063_M0\n",
      "  binary_type = BNS\n",
      "  reference_bibkeys = Camilletti:2022jms\n",
      "  id_code = LORENE\n",
      "  id_type = Irrotational\n",
      "  id_mass = 3.322\n",
      "  id_rest_mass = 3.16272\n",
      "  id_mass_ratio = 1.18\n",
      "  id_ADM_mass = 3.285\n",
      "  id_ADM_angularmomentum = 10.242\n",
      "  id_gw_frequency_Hz = 608.75\n",
      "  id_gw_frequency_Momega22 = 0.06258853723007751\n",
      "  id_eos = DD2\n",
      "  id_kappa2T = 48.22459576456123\n",
      "  id_Lambda = 256.6053768791932\n",
      "  id_eccentricity = \n",
      "  id_mass_starA = 1.527\n",
      "  id_rest_mass_starA = 1.45237\n",
      "  id_spin_starA = 0, 0, 0\n",
      "  id_LoveNum_kell_starA = 0.09062577713722435, 0.023843649313192036, 0.008510762741369318\n",
      "  id_Lambdaell_starA = 421.50990035896456, 764.5707429904143, 1343.9227669903814\n",
      "  id_mass_starB = 1.795\n",
      "  id_rest_mass_starB = 1.71035\n",
      "  id_spin_starB = 0, 0, 0\n",
      "  id_LoveNum_kell_starB = 0.07276324037186263, 0.01816034337189765, 0.0061281815732538575\n",
      "  id_Lambdaell_starB = 150.7535244864385, 187.71033094352384, 225.72329695533134\n",
      "  evolution_code = None\n",
      "  grid_refinement_levels = None\n",
      "  grid_refinement_levels_moving = None\n",
      "  grid_refinement_levels_npoints = None\n",
      "  grid_refinement_levels_moving_npoints = None\n",
      "  grid_spacing_min = None\n",
      "  grid_symmetries = None\n",
      "  grid_shells = None\n",
      "  grid_shells_radial_npoints = None\n",
      "  grid_shells_angular_npoints = None\n",
      "  grid_conservative_amr = None\n",
      "  subgrid_model = None\n",
      "  metric_scheme = None\n",
      "  metric_boundary_conditions = None\n",
      "  hydro_flux = None\n",
      "  hydro_reconstruction = None\n",
      "  hydro_atmosphere_level = None\n",
      "  hydro_atmosphere_factor = None\n",
      "  number_of_orbits = None\n",
      "  evolution_mol_scheme = None\n",
      "  eos_evolution_Gamma_thermal = None\n",
      "  neutrino_scheme = None\n",
      "  id_gw_NR_frequency_Hz = None\n",
      "  Hybrid_window_freq_Hz = None\n",
      "  TEOB_Lambda_starA = None\n",
      "  TEOB_Lambda_starB = None\n",
      "  TEOB_version = None\n",
      "  NR_simulation_key = None\n"
     ]
    }
   ],
   "source": [
    "key = 'id_eos'\n",
    "val = 'DD2'\n",
    "mdl_id_eos_DD2 = [i for i in idb.index if i.data[key]== val] # list of metadata(dictionaries)\n",
    "\n",
    "# show metadata for these runs\n",
    "for md in mdl_id_eos_DD2:\n",
    "    for k, v in md.data.items():\n",
    "        print('  {} = {}'.format(k,v))\n",
    "        "
   ]
  },
  {
   "attachments": {},
   "cell_type": "markdown",
   "metadata": {},
   "source": [
    "The relative dbkeys are"
   ]
  },
  {
   "cell_type": "code",
   "execution_count": 11,
   "metadata": {},
   "outputs": [
    {
     "name": "stdout",
     "output_type": "stream",
     "text": [
      "['THC:0010', 'THC:0011', 'THC:0012', 'THC:0013', 'THC:0014', 'THC:0015', 'THC:0016', 'THC:0017', 'THC:0040', 'THC:0041', 'THC:0042', 'THC:0043', 'THC:0047', 'THC:0048', 'THC:0055', 'THC:0066', 'THC:0071', 'THC:0072']\n"
     ]
    }
   ],
   "source": [
    "dbkeys_id_eos_DD2 = [md.data['database_key'] for md in mdl_id_eos_DD2]\n",
    "\n",
    "print(dbkeys_id_eos_DD2)"
   ]
  },
  {
   "attachments": {},
   "cell_type": "markdown",
   "metadata": {},
   "source": [
    "We could now sync use the local DB with the entire CoRe DB:"
   ]
  },
  {
   "cell_type": "code",
   "execution_count": 12,
   "metadata": {},
   "outputs": [],
   "source": [
    "#cdb.sync(lfs=True, verbose=False) # this takes some time ..."
   ]
  },
  {
   "attachments": {},
   "cell_type": "markdown",
   "metadata": {},
   "source": [
    "But if only a subset of simulations are required, we can clone only the relative repositories. We can enforce the syncronization of a subset of simulations by passing explicitly the `dbkeys` argument:"
   ]
  },
  {
   "cell_type": "code",
   "execution_count": 13,
   "metadata": {},
   "outputs": [
    {
     "name": "stdout",
     "output_type": "stream",
     "text": [
      "git-pull THC_0010 ...\n",
      "done!\n",
      "git-pull THC_0011 ...\n",
      "done!\n",
      "git-pull THC_0012 ...\n",
      "done!\n",
      "git-pull THC_0013 ...\n",
      "done!\n",
      "git-pull THC_0014 ...\n",
      "done!\n",
      "git-pull THC_0015 ...\n",
      "done!\n",
      "git-pull THC_0016 ...\n",
      "done!\n",
      "git-pull THC_0017 ...\n",
      "done!\n",
      "git-pull THC_0040 ...\n",
      "done!\n",
      "git-pull THC_0041 ...\n",
      "done!\n",
      "git-pull THC_0042 ...\n",
      "done!\n",
      "git-pull THC_0043 ...\n",
      "done!\n",
      "git-pull THC_0047 ...\n",
      "done!\n",
      "git-pull THC_0048 ...\n",
      "done!\n",
      "git-pull THC_0055 ...\n",
      "done!\n",
      "git-pull THC_0066 ...\n",
      "done!\n",
      "git-pull THC_0071 ...\n",
      "done!\n",
      "git-pull THC_0072 ...\n",
      "done!\n",
      " Found R01\n",
      "Found THC:0012\n",
      " Found R01\n",
      "Found THC:0015\n",
      " Found R02\n",
      " Found R01\n",
      "Found THC:0071\n",
      " Found R01\n",
      "Found THC:0017\n",
      " Found R02\n",
      " Found R01\n",
      "Found THC:0041\n",
      "skip core_database_index, not a DB key\n",
      " Found R02\n",
      " Found R01\n",
      "Found THC:0048\n",
      " Found R01\n",
      "Found THC:0066\n",
      " Found R02\n",
      " Found R01\n",
      "Found THC:0042\n",
      " Found R02\n",
      " Found R01\n",
      "Found THC:0047\n",
      " Found R02\n",
      " Found R01\n",
      "Found THC:0013\n",
      " Found R01\n",
      "Found THC:0014\n",
      " Found R02\n",
      " Found R01\n",
      "Found THC:0072\n",
      " Found R01\n",
      "Found THC:0010\n",
      " Found R03\n",
      " Found R02\n",
      " Found R01\n",
      "Found THC:0043\n",
      " Found R02\n",
      " Found R01\n",
      "Found THC:0016\n",
      " Found R01\n",
      "Found THC:0040\n",
      " Found R03\n",
      " Found R02\n",
      " Found R04\n",
      " Found R01\n",
      "Found BAM:0066\n",
      " Found R02\n",
      " Found R01\n",
      "Found THC:0055\n",
      " Found R01\n",
      "Found THC:0011\n"
     ]
    }
   ],
   "source": [
    "cdb.sync(dbkeys=dbkeys_id_eos_DD2, verbose=False, lfs=True, prot='https')\n",
    "#cdb.sync(dbkeys=['THC:0001'],verbose=False, lfs=True, prot='https') # To sync only one simulation"
   ]
  },
  {
   "attachments": {},
   "cell_type": "markdown",
   "metadata": {},
   "source": [
    "The object `cdb` has inside a list of `CoRe_sim()` objects labelled by the `database_key`. Each  `CoRe_sim()` object contains metadata and data of all the runs of a simulation, i.e. the content of one of the git repo in the CoRe DB group."
   ]
  },
  {
   "cell_type": "code",
   "execution_count": 14,
   "metadata": {},
   "outputs": [
    {
     "name": "stdout",
     "output_type": "stream",
     "text": [
      "dict_keys(['THC:0012', 'THC:0015', 'THC:0071', 'THC:0017', 'THC:0041', 'THC:0048', 'THC:0066', 'THC:0042', 'THC:0047', 'THC:0013', 'THC:0014', 'THC:0072', 'THC:0010', 'THC:0043', 'THC:0016', 'THC:0040', 'BAM:0066', 'THC:0055', 'THC:0011'])\n",
      "{'R02': <watpy.coredb.coredb.CoRe_run object at 0x7f645be69af0>, 'R01': <watpy.coredb.coredb.CoRe_run object at 0x7f645be699d0>}\n",
      "<watpy.coredb.coredb.CoRe_run object at 0x7f645be699d0>\n",
      "<watpy.utils.coreh5.CoRe_h5 object at 0x7f645be69100>\n",
      "<watpy.coredb.metadata.CoRe_md object at 0x7f645be69a30>\n"
     ]
    }
   ],
   "source": [
    "sim = cdb.sim\n",
    "\n",
    "# see also 2. below\n",
    "print(sim.keys())\n",
    "\n",
    "print(sim['THC:0013'].run)\n",
    "\n",
    "print(sim['THC:0013'].run['R01'])\n",
    "print(sim['THC:0013'].run['R01'].data) # now you can work with this!\n",
    "print(sim['THC:0013'].run['R01'].md) # now you can work with this!"
   ]
  },
  {
   "attachments": {},
   "cell_type": "markdown",
   "metadata": {},
   "source": [
    "We now have the data we want."
   ]
  },
  {
   "attachments": {},
   "cell_type": "markdown",
   "metadata": {},
   "source": [
    "# 2 Get the CoRe DB data"
   ]
  },
  {
   "attachments": {},
   "cell_type": "markdown",
   "metadata": {},
   "source": [
    "Now, lets see better how to what is inside one simulation object:"
   ]
  },
  {
   "cell_type": "code",
   "execution_count": 15,
   "metadata": {},
   "outputs": [
    {
     "name": "stdout",
     "output_type": "stream",
     "text": [
      "  database_key = THC:0013\n",
      "  available_runs = R01, R02\n",
      "  simulation_name = DD2_1.350_1.350_0.00_0.00_0.055\n",
      "  binary_type = BNS\n",
      "  reference_bibkeys = Radice:2016rys Radice:2017lry\n",
      "  id_code = LORENE\n",
      "  id_type = Irrotational\n",
      "  id_mass = 2.7\n",
      "  id_rest_mass = 2.94554\n",
      "  id_mass_ratio = 1.0\n",
      "  id_ADM_mass = 2.67288\n",
      "  id_ADM_angularmomentum = 7.01514\n",
      "  id_gw_frequency_Hz = 663.58\n",
      "  id_gw_frequency_Momega22 = 0.0554514940011\n",
      "  id_eos = DD2\n",
      "  id_kappa2T = 159.0084296249798\n",
      "  id_Lambda = 848.0449579998918\n",
      "  id_eccentricity = \n",
      "  id_mass_starA = 1.35\n",
      "  id_rest_mass_starA = 1.47277\n",
      "  id_spin_starA = 0, 0, 0\n",
      "  id_LoveNum_kell_starA = 0.09996, 0.0269, 0.00984\n",
      "  id_Lambdaell_starA = 848.0449579998921, 2001.0063178210328, 4584.234164607441\n",
      "  id_mass_starB = 1.35\n",
      "  id_rest_mass_starB = 1.47277\n",
      "  id_spin_starB = 0, 0, 0\n",
      "  id_LoveNum_kell_starB = 0.09996, 0.0269, 0.00984\n",
      "  id_Lambdaell_starB = 848.0449579998921, 2001.0063178210328, 4584.234164607441\n",
      "  evolution_code = None\n",
      "  grid_refinement_levels = None\n",
      "  grid_refinement_levels_moving = None\n",
      "  grid_refinement_levels_npoints = None\n",
      "  grid_refinement_levels_moving_npoints = None\n",
      "  grid_spacing_min = None\n",
      "  grid_symmetries = None\n",
      "  grid_shells = None\n",
      "  grid_shells_radial_npoints = None\n",
      "  grid_shells_angular_npoints = None\n",
      "  grid_conservative_amr = None\n",
      "  subgrid_model = None\n",
      "  metric_scheme = None\n",
      "  metric_boundary_conditions = None\n",
      "  hydro_flux = None\n",
      "  hydro_reconstruction = None\n",
      "  hydro_atmosphere_level = None\n",
      "  hydro_atmosphere_factor = None\n",
      "  number_of_orbits = None\n",
      "  evolution_mol_scheme = None\n",
      "  eos_evolution_Gamma_thermal = None\n",
      "  neutrino_scheme = None\n",
      "  id_gw_NR_frequency_Hz = None\n",
      "  Hybrid_window_freq_Hz = None\n",
      "  TEOB_Lambda_starA = None\n",
      "  TEOB_Lambda_starB = None\n",
      "  TEOB_version = None\n",
      "  NR_simulation_key = None\n"
     ]
    }
   ],
   "source": [
    "thc13 = sim['THC:0013']\n",
    "\n",
    "# metadata of this simulation - common data for all runs, from metadata_main.txt\n",
    "for k, v in thc13.md.data.items():\n",
    "    print('  {} = {}'.format(k,v))"
   ]
  },
  {
   "attachments": {},
   "cell_type": "markdown",
   "metadata": {},
   "source": [
    "The runs available for this simulation:"
   ]
  },
  {
   "cell_type": "code",
   "execution_count": 16,
   "metadata": {},
   "outputs": [
    {
     "name": "stdout",
     "output_type": "stream",
     "text": [
      "dict_keys(['R02', 'R01'])\n"
     ]
    }
   ],
   "source": [
    "print(thc13.run.keys())"
   ]
  },
  {
   "attachments": {},
   "cell_type": "markdown",
   "metadata": {},
   "source": [
    "Each run is a `CoRe_run()` object that contains the metadata for the run and the actual data. The metadata is as usual"
   ]
  },
  {
   "cell_type": "code",
   "execution_count": 17,
   "metadata": {},
   "outputs": [
    {
     "name": "stdout",
     "output_type": "stream",
     "text": [
      "  database_key = THC:0013:R01\n",
      "  available_runs = None\n",
      "  simulation_name = DD2_1.350_1.350_0.00_0.00_0.055_0.083\n",
      "  binary_type = BNS\n",
      "  reference_bibkeys = Radice:2016rys Radice:2017lry\n",
      "  id_code = LORENE\n",
      "  id_type = Irrotational\n",
      "  id_mass = 2.7\n",
      "  id_rest_mass = 2.94554\n",
      "  id_mass_ratio = 1.0\n",
      "  id_ADM_mass = 2.67288\n",
      "  id_ADM_angularmomentum = 7.01514\n",
      "  id_gw_frequency_Hz = 663.58\n",
      "  id_gw_frequency_Momega22 = 0.0554514940011\n",
      "  id_eos = DD2\n",
      "  id_kappa2T = 159.0084296249798\n",
      "  id_Lambda = 848.0449579998918\n",
      "  id_eccentricity = \n",
      "  id_mass_starA = 1.35\n",
      "  id_rest_mass_starA = 1.47277\n",
      "  id_spin_starA = 0, 0, 0\n",
      "  id_LoveNum_kell_starA = 0.09996, 0.0269, 0.00984\n",
      "  id_Lambdaell_starA = 848.0449579998921, 2001.0063178210328, 4584.234164607441\n",
      "  id_mass_starB = 1.35\n",
      "  id_rest_mass_starB = 1.47277\n",
      "  id_spin_starB = 0, 0, 0\n",
      "  id_LoveNum_kell_starB = 0.09996, 0.0269, 0.00984\n",
      "  id_Lambdaell_starB = 848.0449579998921, 2001.0063178210328, 4584.234164607441\n",
      "  evolution_code = THC\n",
      "  grid_refinement_levels = 7\n",
      "  grid_refinement_levels_moving = \n",
      "  grid_refinement_levels_npoints = \n",
      "  grid_refinement_levels_moving_npoints = \n",
      "  grid_spacing_min = 0.083333\n",
      "  grid_symmetries = bitant\n",
      "  grid_shells = no\n",
      "  grid_shells_radial_npoints = \n",
      "  grid_shells_angular_npoints = \n",
      "  grid_conservative_amr = yes\n",
      "  subgrid_model = \n",
      "  metric_scheme = Z4c\n",
      "  metric_boundary_conditions = \n",
      "  hydro_flux = HLLE\n",
      "  hydro_reconstruction = MP5\n",
      "  hydro_atmosphere_level = 1.000000e-14\n",
      "  hydro_atmosphere_factor = 0.000000\n",
      "  number_of_orbits = 3.071418e+00\n",
      "  evolution_mol_scheme = RK3\n",
      "  eos_evolution_Gamma_thermal = \n",
      "  neutrino_scheme = Leakage\n",
      "  id_gw_NR_frequency_Hz = None\n",
      "  Hybrid_window_freq_Hz = None\n",
      "  TEOB_Lambda_starA = None\n",
      "  TEOB_Lambda_starB = None\n",
      "  TEOB_version = None\n",
      "  NR_simulation_key = None\n"
     ]
    }
   ],
   "source": [
    "thc13_r01 = thc13.run['R01']\n",
    "\n",
    "# metadata of this simulation run - note this has more info, from metadata.txt\n",
    "for k, v in thc13_r01.md.data.items():\n",
    "    print('  {} = {}'.format(k,v))"
   ]
  },
  {
   "attachments": {},
   "cell_type": "markdown",
   "metadata": {},
   "source": [
    "The actual data are stored in a `CoRe_h5()` object that allows us to easily read (write) from (to) the HDF5 format. For example, we can dump the HDF5 data into `.txt` files. We can choose what to extract ($h$, $\\Psi_4$ or the energetics of the waveform) or just extract everything in the same directory where the original HDF5 archive was stored. The `.txt` files can now be loaded with any python routine (or with the `wave` classes of watpy)."
   ]
  },
  {
   "cell_type": "code",
   "execution_count": 18,
   "metadata": {},
   "outputs": [
    {
     "name": "stdout",
     "output_type": "stream",
     "text": [
      "<watpy.utils.coreh5.CoRe_h5 object at 0x7f645be69100>\n",
      "data.h5\n"
     ]
    }
   ],
   "source": [
    "# h5 data file\n",
    "print(thc13_r01.data)\n",
    "print(thc13_r01.data.dfile)\n",
    "\n",
    "# extract to txt\n",
    "thc13_r01.data.write_strain_to_txt() \n",
    "thc13_r01.data.write_psi4_to_txt()\n",
    "thc13_r01.data.write_EJ_to_txt()\n",
    "\n",
    "# or all three in one:\n",
    "#r01.h5.extract_all()"
   ]
  },
  {
   "attachments": {},
   "cell_type": "markdown",
   "metadata": {},
   "source": [
    "**NOTE: The extracted files are not meant to be tracked by the CoRe DB repo and should not be added to any commit.**\n",
    "The `CoRe_run` object can help you to delete the `.txt` files as follows:"
   ]
  },
  {
   "cell_type": "code",
   "execution_count": 19,
   "metadata": {},
   "outputs": [],
   "source": [
    "#thc13_r01.clean_txt() # delete files extracted from the HDF5"
   ]
  },
  {
   "attachments": {},
   "cell_type": "markdown",
   "metadata": {},
   "source": [
    "The `CoRe_h5()` object has also routines to directly read the data at the chosen extraction radius. If no radius is given, or if the selected radius is not within the available ones, the largest is chosen by default. So, one can finally see the data:"
   ]
  },
  {
   "cell_type": "code",
   "execution_count": 20,
   "metadata": {},
   "outputs": [
    {
     "data": {
      "image/png": "[encoded data removed]",
      "text/plain": [
       "<Figure size 432x288 with 1 Axes>"
      ]
     },
     "metadata": {
      "needs_background": "light"
     },
     "output_type": "display_data"
    }
   ],
   "source": [
    "fig, ax = thc13_r01.data.show('rh_22')"
   ]
  },
  {
   "attachments": {},
   "cell_type": "markdown",
   "metadata": {},
   "source": [
    "Finally, we can check the content of the HDF5 and import the dataset as a numpy array:"
   ]
  },
  {
   "cell_type": "code",
   "execution_count": 21,
   "metadata": {},
   "outputs": [
    {
     "name": "stdout",
     "output_type": "stream",
     "text": [
      "energy\n",
      "energy/EJ_r00400.txt\n",
      "rh_00\n",
      "rh_00/Rh_l0_m0_r00400.txt\n",
      "rh_10\n",
      "rh_10/Rh_l1_m0_r00400.txt\n",
      "rh_11\n",
      "rh_11/Rh_l1_m1_r00400.txt\n",
      "rh_20\n",
      "rh_20/Rh_l2_m0_r00400.txt\n",
      "rh_21\n",
      "rh_21/Rh_l2_m1_r00400.txt\n",
      "rh_22\n",
      "rh_22/Rh_l2_m2_r00400.txt\n",
      "rh_30\n",
      "rh_30/Rh_l3_m0_r00400.txt\n",
      "rh_31\n",
      "rh_31/Rh_l3_m1_r00400.txt\n",
      "rh_32\n",
      "rh_32/Rh_l3_m2_r00400.txt\n",
      "rh_33\n",
      "rh_33/Rh_l3_m3_r00400.txt\n",
      "rh_40\n",
      "rh_40/Rh_l4_m0_r00400.txt\n",
      "rh_41\n",
      "rh_41/Rh_l4_m1_r00400.txt\n",
      "rh_42\n",
      "rh_42/Rh_l4_m2_r00400.txt\n",
      "rh_43\n",
      "rh_43/Rh_l4_m3_r00400.txt\n",
      "rh_44\n",
      "rh_44/Rh_l4_m4_r00400.txt\n",
      "rpsi4_00\n",
      "rpsi4_00/Rpsi4_l0_m0_r00400.txt\n",
      "rpsi4_10\n",
      "rpsi4_10/Rpsi4_l1_m0_r00400.txt\n",
      "rpsi4_11\n",
      "rpsi4_11/Rpsi4_l1_m1_r00400.txt\n",
      "rpsi4_20\n",
      "rpsi4_20/Rpsi4_l2_m0_r00400.txt\n",
      "rpsi4_21\n",
      "rpsi4_21/Rpsi4_l2_m1_r00400.txt\n",
      "rpsi4_22\n",
      "rpsi4_22/Rpsi4_l2_m2_r00400.txt\n",
      "rpsi4_30\n",
      "rpsi4_30/Rpsi4_l3_m0_r00400.txt\n",
      "rpsi4_31\n",
      "rpsi4_31/Rpsi4_l3_m1_r00400.txt\n",
      "rpsi4_32\n",
      "rpsi4_32/Rpsi4_l3_m2_r00400.txt\n",
      "rpsi4_33\n",
      "rpsi4_33/Rpsi4_l3_m3_r00400.txt\n",
      "rpsi4_40\n",
      "rpsi4_40/Rpsi4_l4_m0_r00400.txt\n",
      "rpsi4_41\n",
      "rpsi4_41/Rpsi4_l4_m1_r00400.txt\n",
      "rpsi4_42\n",
      "rpsi4_42/Rpsi4_l4_m2_r00400.txt\n",
      "rpsi4_43\n",
      "rpsi4_43/Rpsi4_l4_m3_r00400.txt\n",
      "rpsi4_44\n",
      "rpsi4_44/Rpsi4_l4_m4_r00400.txt\n",
      "[[-1.57746444e+02  0.00000000e+00  0.00000000e+00 ...  0.00000000e+00\n",
      "  -0.00000000e+00  0.00000000e+00]\n",
      " [-1.56561259e+02  9.61352712e-17 -2.63305000e-16 ...  2.80306107e-16\n",
      "   1.22072446e+00  3.20000000e+00]\n",
      " [-1.55376074e+02  5.44390266e-10 -1.59448267e-09 ...  1.68485481e-09\n",
      "   1.24178439e+00  6.40000000e+00]\n",
      " ...\n",
      " [ 2.13321652e+03  7.50600951e-10 -1.63780384e-09 ...  1.80161128e-09\n",
      "   3.78132182e+02  6.18560000e+03]\n",
      " [ 2.13440170e+03  1.16436018e-16 -2.67557813e-16 ...  2.91795355e-16\n",
      "   3.78151453e+02  6.18880000e+03]\n",
      " [ 2.13558689e+03  0.00000000e+00  0.00000000e+00 ...  0.00000000e+00\n",
      "   3.76991118e+02  6.19200000e+03]]\n"
     ]
    },
    {
     "data": {
      "text/plain": [
       "[<matplotlib.lines.Line2D at 0x7f645b3066d0>]"
      ]
     },
     "execution_count": 21,
     "metadata": {},
     "output_type": "execute_result"
    },
    {
     "data": {
      "image/png": "[encoded data removed]",
      "text/plain": [
       "<Figure size 432x288 with 1 Axes>"
      ]
     },
     "metadata": {
      "needs_background": "light"
     },
     "output_type": "display_data"
    }
   ],
   "source": [
    "# check dset, h5dump -n\n",
    "dset = thc13_r01.data.dump()\n",
    "\n",
    "# import as numpy array\n",
    "# 'read' is deprecated, use read_dset if possible\n",
    "dset = thc13_r01.data.read('rh_22')\n",
    "print(dset)\n",
    "\n",
    "# plot it\n",
    "import matplotlib.pyplot as plt\n",
    "plt.plot(dset[:,0],dset[:,1])"
   ]
  },
  {
   "attachments": {},
   "cell_type": "markdown",
   "metadata": {},
   "source": [
    "# 3 Load waveforms from a simulation\n",
    "\n",
    "Here we give an example on how to write metadata in CoRe format. Something like this must be done, for example, every time a new simulations needs to the added to the CoRe DB."
   ]
  },
  {
   "cell_type": "code",
   "execution_count": 22,
   "metadata": {},
   "outputs": [],
   "source": [
    "from watpy.wave.wave import *\n",
    "from watpy.utils import ioutils\n",
    "from watpy.utils.units import MSun_sec\n",
    "import numpy as np\n",
    "import os, glob"
   ]
  },
  {
   "cell_type": "code",
   "execution_count": 23,
   "metadata": {},
   "outputs": [],
   "source": [
    "Msun_sec = MSun_sec() #4.925794970773135e-06\n",
    "\n",
    "# metadata\n",
    "thcsim = {}\n",
    "thcsim['folder'] = './MySim_THC_135135' # simulation folder\n",
    "thcsim['mass'] = 2 * 1.364 # binary mass in solar masses\n",
    "thcsim['q'] = 1.0 # mass ratio, >= 1\n",
    "thcsim['f0_Hz'] = 565.08 # initial GW frequency in Hz\n",
    "thcsim['f0'] = thcsim['f0_Hz'] * Msun_sec\n",
    "thcsim['Momg22'] = thcsim['mass'] * thcsim['f0'] / (2*np.pi) # initial GW frequency in geom. units\n",
    "thcsim['massA'] = 1.364\n",
    "thcsim['massB'] = 1.364\n",
    "thcsim['madm'] = 2.703 # ADM mass (t=0) \n",
    "thcsim['jadm'] = 7.400 # ADM ang.mom. (t=0) \n",
    "thcsim['id_code']                  = 'LORENE'\n",
    "thcsim['id_type']                  = 'Irrotational'\n",
    "thcsim['id_mass']                  = 2.7\n",
    "thcsim['id_rest_mass']             = 2.94554\n",
    "thcsim['id_mass_ratio']            = 1.0\n",
    "thcsim['id_ADM_mass']              = 2.67288\n",
    "thcsim['id_ADM_angularmomentum']   = 7.01514\n",
    "thcsim['id_gw_frequency_Hz']       = 663.58\n",
    "thcsim['id_gw_frequency_Momega22'] = 0.0554514940011\n",
    "thcsim['id_eos']                   = 'ABC'\n",
    "thcsim['id_kappa2T']               = 159.0084296249798\n",
    "thcsim['id_Lambda']                = 848.0449579998918\n",
    "thcsim['id_eccentricity']          = None \n",
    "thcsim['id_mass_starA']            = 1.35\n",
    "thcsim['id_rest_mass_starA']       = 1.47277\n",
    "thcsim['id_spin_starA']            = 0, 0, 0\n",
    "thcsim['id_LoveNum_kell_starA']    = 0.09996, 0.0269, 0.00984\n",
    "thcsim['id_Lambdaell_starA']       = 848.0449579998921, 2001.0063178210328, 4584.234164607441\n",
    "thcsim['id_mass_starB']            = 1.35\n",
    "thcsim['id_rest_mass_starB']       = 1.47277"
   ]
  },
  {
   "attachments": {},
   "cell_type": "markdown",
   "metadata": {},
   "source": [
    "Define directory to save CoRe output data"
   ]
  },
  {
   "cell_type": "code",
   "execution_count": 24,
   "metadata": {},
   "outputs": [],
   "source": [
    "thcsim['pre-release-folder'] = './MySim_THC_135135/CoReDB' # folder with CoRe formatted files\n",
    "\n",
    "# Create CoRe output folder if needed\n",
    "os.makedirs(thcsim['pre-release-folder'], exist_ok = True)"
   ]
  },
  {
   "attachments": {},
   "cell_type": "markdown",
   "metadata": {},
   "source": [
    "Collect all $\\Psi_4$ files and define a multipolar wave with the class `mwaves()`"
   ]
  },
  {
   "cell_type": "code",
   "execution_count": 25,
   "metadata": {},
   "outputs": [],
   "source": [
    "fnames = [os.path.split(x)[1] for x in glob.glob('{}/{}'.format(thcsim['folder'],'mp_Psi4_l?_m?_r400.00.asc'))]\n",
    "\n",
    "wm = mwaves(path = thcsim['folder'], code = 'cactus', filenames = fnames, \n",
    "            mass = thcsim['mass'], f0 = thcsim['f0'], ignore_negative_m=True)"
   ]
  },
  {
   "attachments": {},
   "cell_type": "markdown",
   "metadata": {},
   "source": [
    "Show (2,2) strain."
   ]
  },
  {
   "cell_type": "code",
   "execution_count": 26,
   "metadata": {},
   "outputs": [
    {
     "data": {
      "image/png": "[encoded data removed]",
      "text/plain": [
       "<Figure size 432x288 with 2 Axes>"
      ]
     },
     "metadata": {
      "needs_background": "light"
     },
     "output_type": "display_data"
    }
   ],
   "source": [
    "h22 = wm.get(l=2, m=2)\n",
    "fig = h22.show_strain()"
   ]
  },
  {
   "attachments": {},
   "cell_type": "markdown",
   "metadata": {},
   "source": [
    "We can also check which modes are there and look at them this way:"
   ]
  },
  {
   "cell_type": "code",
   "execution_count": 27,
   "metadata": {},
   "outputs": [
    {
     "name": "stdout",
     "output_type": "stream",
     "text": [
      "[(2, 0), (2, 1), (2, 2), (3, 0), (3, 1), (3, 2), (3, 3), (4, 0), (4, 1), (4, 2), (4, 3), (4, 4)]\n"
     ]
    }
   ],
   "source": [
    "print(wm.modes)"
   ]
  },
  {
   "cell_type": "code",
   "execution_count": 28,
   "metadata": {},
   "outputs": [
    {
     "data": {
      "image/png": "[encoded data removed]",
      "text/plain": [
       "<Figure size 432x288 with 2 Axes>"
      ]
     },
     "metadata": {
      "needs_background": "light"
     },
     "output_type": "display_data"
    }
   ],
   "source": [
    "h32 = wm.get(l=3, m=2)\n",
    "fig = h32.show_strain()"
   ]
  },
  {
   "attachments": {},
   "cell_type": "markdown",
   "metadata": {},
   "source": [
    "Get strain from all modes\n",
    "\n",
    "$h_+ - i h_\\times = D_L^{-1}\\sum_{\\ell=2}^\\infty\\sum_{m=-\\ell}^{\\ell} h_{\\ell m}(t)\\,{}^{-2}Y_{\\ell m}(\\iota,\\varphi)$"
   ]
  },
  {
   "cell_type": "code",
   "execution_count": 29,
   "metadata": {},
   "outputs": [
    {
     "data": {
      "image/png": "[encoded data removed]",
      "text/plain": [
       "<Figure size 432x288 with 1 Axes>"
      ]
     },
     "metadata": {
      "needs_background": "light"
     },
     "output_type": "display_data"
    }
   ],
   "source": [
    "time, hplus, hcross = wm.hlm_to_strain()\n",
    "\n",
    "import matplotlib.pyplot as plt\n",
    "fig, ax = plt.subplots()\n",
    "ax.plot(time, hplus, label=r'$h_+$')\n",
    "ax.plot(time, hcross,'--',label=r'$h_{\\times}$') \n",
    "ax.set_xlabel('time')\n",
    "ax.grid()\n",
    "plt.legend()\n",
    "#fig.savefig(\"nrmodes2strain.pdf\")\n",
    "plt.show()"
   ]
  },
  {
   "attachments": {},
   "cell_type": "markdown",
   "metadata": {},
   "source": [
    "Write text files for every mode of $h_{\\ell m}$."
   ]
  },
  {
   "cell_type": "code",
   "execution_count": 30,
   "metadata": {},
   "outputs": [],
   "source": [
    "for (l,m) in wm.modes:\n",
    "    \n",
    "        psilm = wm.get(var='Psi4',l=l, m=m)\n",
    "        psilm.write_to_txt('Psi4', thcsim['pre-release-folder'])\n",
    "        \n",
    "        hlm = wm.get(l=l, m=m)\n",
    "        hlm.write_to_txt('h', thcsim['pre-release-folder'])"
   ]
  },
  {
   "attachments": {},
   "cell_type": "markdown",
   "metadata": {},
   "source": [
    "Write energetics to text files."
   ]
  },
  {
   "cell_type": "code",
   "execution_count": 31,
   "metadata": {},
   "outputs": [],
   "source": [
    "wm.energetics(thcsim['massA'], thcsim['massB'], thcsim['madm'], thcsim['jadm'], \n",
    "              path_out = thcsim['pre-release-folder'])"
   ]
  },
  {
   "attachments": {},
   "cell_type": "markdown",
   "metadata": {},
   "source": [
    "Above, the `thcsim` dictionary is (carefully) written using (some of) the keys for the CoRe DB metadata. The latter are stored in a `CoRe_md()` object, which basically contains a dictionary. Lets see what is inside:"
   ]
  },
  {
   "cell_type": "code",
   "execution_count": 32,
   "metadata": {},
   "outputs": [
    {
     "name": "stdout",
     "output_type": "stream",
     "text": [
      "File metadata.txt not found\n",
      ".\n",
      "{'database_key': None, 'available_runs': None, 'simulation_name': None, 'binary_type': None, 'reference_bibkeys': None, 'id_code': None, 'id_type': None, 'id_mass': None, 'id_rest_mass': None, 'id_mass_ratio': None, 'id_ADM_mass': None, 'id_ADM_angularmomentum': None, 'id_gw_frequency_Hz': None, 'id_gw_frequency_Momega22': None, 'id_eos': None, 'id_kappa2T': None, 'id_Lambda': None, 'id_eccentricity': None, 'id_mass_starA': None, 'id_rest_mass_starA': None, 'id_spin_starA': None, 'id_LoveNum_kell_starA': None, 'id_Lambdaell_starA': None, 'id_mass_starB': None, 'id_rest_mass_starB': None, 'id_spin_starB': None, 'id_LoveNum_kell_starB': None, 'id_Lambdaell_starB': None, 'evolution_code': None, 'grid_refinement_levels': None, 'grid_refinement_levels_moving': None, 'grid_refinement_levels_npoints': None, 'grid_refinement_levels_moving_npoints': None, 'grid_spacing_min': None, 'grid_symmetries': None, 'grid_shells': None, 'grid_shells_radial_npoints': None, 'grid_shells_angular_npoints': None, 'grid_conservative_amr': None, 'subgrid_model': None, 'metric_scheme': None, 'metric_boundary_conditions': None, 'hydro_flux': None, 'hydro_reconstruction': None, 'hydro_atmosphere_level': None, 'hydro_atmosphere_factor': None, 'number_of_orbits': None, 'evolution_mol_scheme': None, 'eos_evolution_Gamma_thermal': None, 'neutrino_scheme': None, 'id_gw_NR_frequency_Hz': None, 'Hybrid_window_freq_Hz': None, 'TEOB_Lambda_starA': None, 'TEOB_Lambda_starB': None, 'TEOB_version': None, 'NR_simulation_key': None}\n"
     ]
    }
   ],
   "source": [
    "from watpy.coredb.metadata import CoRe_md\n",
    "\n",
    "md = CoRe_md() # initialized empty\n",
    "print(md.path)\n",
    "print(md.data)\n",
    "\n",
    "#md.info() # Uncomment to see the information about each key of the metadata"
   ]
  },
  {
   "attachments": {},
   "cell_type": "markdown",
   "metadata": {},
   "source": [
    "To initialize this object we can pass a dictionary, like `thcsim`. We use the `CoRe_md()` to write such a text file, i.e. a metadata.txt:"
   ]
  },
  {
   "cell_type": "code",
   "execution_count": 33,
   "metadata": {},
   "outputs": [
    {
     "name": "stdout",
     "output_type": "stream",
     "text": [
      "database_key = None\n",
      "available_runs = None\n",
      "simulation_name = None\n",
      "binary_type = None\n",
      "reference_bibkeys = None\n",
      "id_code = LORENE\n",
      "id_type = Irrotational\n",
      "id_mass = 2.7\n",
      "id_rest_mass = 2.94554\n",
      "id_mass_ratio = 1.0\n",
      "id_ADM_mass = 2.67288\n",
      "id_ADM_angularmomentum = 7.01514\n",
      "id_gw_frequency_Hz = 663.58\n",
      "id_gw_frequency_Momega22 = 0.0554514940011\n",
      "id_eos = ABC\n",
      "id_kappa2T = 159.0084296249798\n",
      "id_Lambda = 848.0449579998918\n",
      "id_eccentricity = None\n",
      "id_mass_starA = 1.35\n",
      "id_rest_mass_starA = 1.47277\n",
      "id_spin_starA = (0, 0, 0)\n",
      "id_LoveNum_kell_starA = (0.09996, 0.0269, 0.00984)\n",
      "id_Lambdaell_starA = (848.0449579998921, 2001.0063178210328, 4584.234164607441)\n",
      "id_mass_starB = 1.35\n",
      "id_rest_mass_starB = 1.47277\n",
      "id_spin_starB = None\n",
      "id_LoveNum_kell_starB = None\n",
      "id_Lambdaell_starB = None\n",
      "evolution_code = None\n",
      "grid_refinement_levels = None\n",
      "grid_refinement_levels_moving = None\n",
      "grid_refinement_levels_npoints = None\n",
      "grid_refinement_levels_moving_npoints = None\n",
      "grid_spacing_min = None\n",
      "grid_symmetries = None\n",
      "grid_shells = None\n",
      "grid_shells_radial_npoints = None\n",
      "grid_shells_angular_npoints = None\n",
      "grid_conservative_amr = None\n",
      "subgrid_model = None\n",
      "metric_scheme = None\n",
      "metric_boundary_conditions = None\n",
      "hydro_flux = None\n",
      "hydro_reconstruction = None\n",
      "hydro_atmosphere_level = None\n",
      "hydro_atmosphere_factor = None\n",
      "number_of_orbits = None\n",
      "evolution_mol_scheme = None\n",
      "eos_evolution_Gamma_thermal = None\n",
      "neutrino_scheme = None\n",
      "id_gw_NR_frequency_Hz = None\n",
      "Hybrid_window_freq_Hz = None\n",
      "TEOB_Lambda_starA = None\n",
      "TEOB_Lambda_starB = None\n",
      "TEOB_version = None\n",
      "NR_simulation_key = None\n",
      "folder = ./MySim_THC_135135\n",
      "mass = 2.728\n",
      "q = 1.0\n",
      "f0_Hz = 565.08\n",
      "f0 = 0.0027834682220844835\n",
      "Momg22 = 0.0012085114378482295\n",
      "massA = 1.364\n",
      "massB = 1.364\n",
      "madm = 2.703\n",
      "jadm = 7.4\n",
      "pre-release-folder = ./MySim_THC_135135/CoReDB\n",
      "Wrote ./MySim_THC_135135/CoReDB/metadata.txt\n"
     ]
    }
   ],
   "source": [
    "md.update_fromdict(thcsim)\n",
    "# md = CoRe_md(metadata = thcsim) # alternatively, (re-)initialize\n",
    "\n",
    "# show the metadata\n",
    "for k,v, in md.data.items():\n",
    "    print('{} = {}'.format(k,v))\n",
    "\n",
    "# write\n",
    "md.write(path = thcsim['pre-release-folder'], fname = 'metadata.txt')"
   ]
  },
  {
   "attachments": {},
   "cell_type": "markdown",
   "metadata": {},
   "source": [
    "## Read from CoRe formatted .txt files\n",
    "The wave class can also read CoRe format, obviously."
   ]
  },
  {
   "cell_type": "code",
   "execution_count": 34,
   "metadata": {},
   "outputs": [
    {
     "name": "stdout",
     "output_type": "stream",
     "text": [
      "['Rh_l3_m3_r00400.txt', 'Rh_l3_m2_r00400.txt', 'Rh_l4_m4_r00400.txt', 'Rh_l2_m2_r00400.txt', 'Rh_l4_m2_r00400.txt', 'Rh_l2_m1_r00400.txt', 'Rh_l4_m1_r00400.txt', 'Rh_l2_m0_r00400.txt', 'Rh_l4_m0_r00400.txt', 'Rh_l3_m0_r00400.txt', 'Rh_l3_m1_r00400.txt', 'Rh_l4_m3_r00400.txt']\n"
     ]
    }
   ],
   "source": [
    "fnames = [os.path.split(x)[1] for x in glob.glob('{}/{}'.format(thcsim['pre-release-folder'],'Rh_l?_m?_r*.txt'))]\n",
    "print(fnames)"
   ]
  },
  {
   "cell_type": "code",
   "execution_count": 35,
   "metadata": {},
   "outputs": [
    {
     "data": {
      "image/png": "[encoded data removed]",
      "text/plain": [
       "<Figure size 432x288 with 2 Axes>"
      ]
     },
     "metadata": {
      "needs_background": "light"
     },
     "output_type": "display_data"
    }
   ],
   "source": [
    "wm_c = mwaves(thcsim['pre-release-folder'], code = 'core', filenames = fnames, \n",
    "              mass = thcsim['mass'], f0 = thcsim['f0'], ignore_negative_m=True)\n",
    "h32 = wm.get(l=3, m=2)\n",
    "fig = h32.show_strain()"
   ]
  },
  {
   "attachments": {},
   "cell_type": "markdown",
   "metadata": {},
   "source": [
    "# 4 Computing mismatches\n",
    "Compute faithfulness between two waveforms $h_1$ and $h_2$, according to [Cutler:1994ys]\n",
    "\n",
    "$\\langle h_1,h_2\\rangle := 4\\Re{ \\int \\frac{\\tilde{h}_1(f)\\tilde{h}^*_2(f)}{S_n(f)} }df$\n",
    "\n",
    "where $S_n(f)$ is the power spectral density (PSD) of the detector and $\\tilde{h}_1(f)$ the Fourier transform of $h_1(t)$."
   ]
  },
  {
   "cell_type": "code",
   "execution_count": 36,
   "metadata": {},
   "outputs": [],
   "source": [
    "import numpy as np\n",
    "from watpy.coredb.coredb import *\n",
    "from watpy.utils.num import diff1\n",
    "from scipy.signal import tukey\n",
    " \n",
    "# for the mismatches\n",
    "from bajes.obs.gw.noise import get_design_sensitivity\n",
    "from watpy.wave.gwutils import match, q_to_nu"
   ]
  },
  {
   "cell_type": "code",
   "execution_count": 37,
   "metadata": {},
   "outputs": [],
   "source": [
    "Msuns  = 4.925491025543575903411922162094833998e-6\n",
    "Mpc_m  = 3.085677581491367278913937957796471611e22\n",
    "Msun_m = 1.476625061404649406193430731479084713e3"
   ]
  },
  {
   "cell_type": "code",
   "execution_count": 38,
   "metadata": {},
   "outputs": [],
   "source": [
    "def windowing(h, alpha=0.1): \n",
    "   \"\"\" Perform windowing with Tukey window on a given strain (time-domain) \n",
    "       __________ \n",
    "       h    : strain to be tapered \n",
    "       alpha : Tukey filter slope parameter. Suggested value: alpha = 1/4/seglen \n",
    "       Only tapers beginning of wvf, to taper both, comment: window[len(h)//2:] = 1.\n",
    "   \"\"\" \n",
    "   window = tukey(len(h), alpha) \n",
    "   #window[len(h)//2:] = 1. \n",
    "   wfact  = np.mean(window**2) \n",
    "   window = np.array(window) \n",
    "   return h*window, wfact"
   ]
  },
  {
   "attachments": {},
   "cell_type": "markdown",
   "metadata": {},
   "source": [
    "Specify `CoRe DB clone` path and a simulation."
   ]
  },
  {
   "cell_type": "code",
   "execution_count": 39,
   "metadata": {},
   "outputs": [
    {
     "name": "stdout",
     "output_type": "stream",
     "text": [
      "git-pull BAM_0066 ...\n",
      "done!\n",
      " Found R01\n",
      "Found THC:0012\n",
      " Found R01\n",
      "Found THC:0015\n",
      " Found R02\n",
      " Found R01\n",
      "Found THC:0071\n",
      " Found R01\n",
      "Found THC:0017\n",
      " Found R02\n",
      " Found R01\n",
      "Found THC:0041\n",
      "skip core_database_index, not a DB key\n",
      " Found R02\n",
      " Found R01\n",
      "Found THC:0048\n",
      " Found R01\n",
      "Found THC:0066\n",
      " Found R02\n",
      " Found R01\n",
      "Found THC:0042\n",
      " Found R02\n",
      " Found R01\n",
      "Found THC:0047\n",
      " Found R02\n",
      " Found R01\n",
      "Found THC:0013\n",
      " Found R01\n",
      "Found THC:0014\n",
      " Found R02\n",
      " Found R01\n",
      "Found THC:0072\n",
      " Found R01\n",
      "Found THC:0010\n",
      " Found R03\n",
      " Found R02\n",
      " Found R01\n",
      "Found THC:0043\n",
      " Found R02\n",
      " Found R01\n",
      "Found THC:0016\n",
      " Found R01\n",
      "Found THC:0040\n",
      " Found R03\n",
      " Found R02\n",
      " Found R04\n",
      " Found R01\n",
      "Found BAM:0066\n",
      " Found R02\n",
      " Found R01\n",
      "Found THC:0055\n",
      " Found R01\n",
      "Found THC:0011\n"
     ]
    }
   ],
   "source": [
    "sim_path    = './CoRe_DB_clone/'\n",
    "dirc        = 'BAM:0066'\n",
    "# Initialize DB\n",
    "#cdb = CoRe_db(sim_path)\n",
    "cdb.sync(dbkeys=[dirc],verbose=False, lfs=True, prot='https') # clone repo of simulation of interest\n",
    "#idb = cdb.idb\n",
    "sim = cdb.sim[dirc] # Simulation object\n",
    "metadata = sim.md.data\n",
    "M = float(metadata['id_mass'])\n",
    "q = float(metadata['id_mass_ratio'])\n",
    "nu = q_to_nu(q)\n",
    "fmin = float(metadata['id_gw_frequency_Hz'])\n",
    "distance = 1.\n",
    "Njunk = 600 # To delete the radiation junk at the beginning of the simulation"
   ]
  },
  {
   "attachments": {},
   "cell_type": "markdown",
   "metadata": {},
   "source": [
    "Now we extract the waveforms we want to compare, that would be the highest (R01) and the second highest (R02) resolutions."
   ]
  },
  {
   "cell_type": "code",
   "execution_count": 40,
   "metadata": {},
   "outputs": [],
   "source": [
    "# R01\n",
    "run1 =   sim.run['R01']\n",
    "datah5 = run1.data\n",
    "dseth5 = datah5.read_dset()\n",
    "rh22_files = list(dseth5['rh_22'].keys())[0] # different distances, take smallest distance\n",
    "dset = dseth5['rh_22'][rh22_files] \n",
    "t11           = dset[:,0][Njunk:] # u/M : retarded time\n",
    "Reh11        = dset[:,1][Njunk:] # Reh/M\n",
    "Imh1        = dset[:,2][Njunk:] # Imh/M\n",
    "amp1         = dset[:,4][Njunk:] # A/M \n",
    "phase1       = -np.unwrap(np.angle(Reh11 + 1j*Imh1)) \n",
    "freq1        = np.abs(np.diff(phase1)/np.diff(t11))#diff1(t11,phase1)\n",
    "\n",
    "# R02\n",
    "run2 =   sim.run['R02']\n",
    "datah5 = run2.data\n",
    "dseth5 = datah5.read_dset()\n",
    "rh22_files = list(dseth5['rh_22'].keys())[0] # different distances, take smallest distance\n",
    "dset = dseth5['rh_22'][rh22_files] \n",
    "Reh22        = dset[:,1][Njunk:] # Reh/M\n",
    "Imh2        = dset[:,2][Njunk:] # Imh/M"
   ]
  },
  {
   "attachments": {},
   "cell_type": "markdown",
   "metadata": {},
   "source": [
    "We convert the necessary quantities to physical units"
   ]
  },
  {
   "cell_type": "code",
   "execution_count": 41,
   "metadata": {},
   "outputs": [],
   "source": [
    "fmrg         = freq1[np.argmax(amp1)]/(2*np.pi*M*Msuns) # for SI units\n",
    "Reh1 = nu * Reh11 * (M*Msun_m)/(distance*Mpc_m)\n",
    "Reh2 = nu * Reh22 * (M*Msun_m)/(distance*Mpc_m)\n",
    "\n",
    "# Sample time\n",
    "dT = 1. /4096\n",
    "t1 = np.array(range(len(Reh11)))*dT\n",
    "t2 = np.array(range(len(Reh22)))*dT"
   ]
  },
  {
   "attachments": {},
   "cell_type": "markdown",
   "metadata": {},
   "source": [
    "We need to obtain now the PSD (Power Spectral Density), which integrated over all positive frequencies gives the mean square amplitude of the noise in the detector. \n",
    "(See https://dcc.ligo.org/public/0114/P1400129/003/noise_curve.pdf Figure A2 for more information)\n",
    "\n",
    "Obtain PSD from the python library PyCBC:\n",
    "http://pycbc.org/pycbc/latest/html/index.html\n",
    "\n",
    "Install PyCBC with `pip install pycbc`"
   ]
  },
  {
   "cell_type": "code",
   "execution_count": 44,
   "metadata": {},
   "outputs": [
    {
     "name": "stdout",
     "output_type": "stream",
     "text": [
      "['AdVBNSOptimizedSensitivityP1200087', 'AdVDesignSensitivityP1200087', 'AdVEarlyHighSensitivityP1200087', 'AdVEarlyLowSensitivityP1200087', 'AdVLateHighSensitivityP1200087', 'AdVLateLowSensitivityP1200087', 'AdVMidHighSensitivityP1200087', 'AdVMidLowSensitivityP1200087', 'AdvVirgo', 'CosmicExplorerP1600143', 'CosmicExplorerPessimisticP1600143', 'CosmicExplorerWidebandP1600143', 'EinsteinTelescopeP1600143', 'GEO', 'GEOHF', 'KAGRA', 'KAGRADesignSensitivityT1600593', 'KAGRAEarlySensitivityT1600593', 'KAGRALateSensitivityT1600593', 'KAGRAMidSensitivityT1600593', 'KAGRAOpeningSensitivityT1600593', 'TAMA', 'Virgo', 'aLIGOAPlusDesignSensitivityT1800042', 'aLIGOAdVO3LowT1800545', 'aLIGOAdVO4IntermediateT1800545', 'aLIGOAdVO4T1800545', 'aLIGOBHBH20Deg', 'aLIGOBHBH20DegGWINC', 'aLIGOBNSOptimizedSensitivityP1200087', 'aLIGODesignSensitivityP1200087', 'aLIGOEarlyHighSensitivityP1200087', 'aLIGOEarlyLowSensitivityP1200087', 'aLIGOHighFrequency', 'aLIGOHighFrequencyGWINC', 'aLIGOKAGRA128MpcT1800545', 'aLIGOKAGRA25MpcT1800545', 'aLIGOKAGRA80MpcT1800545', 'aLIGOLateHighSensitivityP1200087', 'aLIGOLateLowSensitivityP1200087', 'aLIGOMidHighSensitivityP1200087', 'aLIGOMidLowSensitivityP1200087', 'aLIGONSNSOpt', 'aLIGONSNSOptGWINC', 'aLIGONoSRMHighPower', 'aLIGONoSRMLowPower', 'aLIGONoSRMLowPowerGWINC', 'aLIGOQuantumBHBH20Deg', 'aLIGOQuantumHighFrequency', 'aLIGOQuantumNSNSOpt', 'aLIGOQuantumNoSRMHighPower', 'aLIGOQuantumNoSRMLowPower', 'aLIGOQuantumZeroDetHighPower', 'aLIGOQuantumZeroDetLowPower', 'aLIGOThermal', 'aLIGOZeroDetHighPower', 'aLIGOZeroDetHighPowerGWINC', 'aLIGOZeroDetLowPower', 'aLIGOZeroDetLowPowerGWINC', 'aLIGOaLIGO140MpcT1800545', 'aLIGOaLIGO175MpcT1800545', 'aLIGOaLIGODesignSensitivityT1800044', 'aLIGOaLIGOO3LowT1800545', 'eLIGOModel', 'eLIGOShot', 'iLIGOModel', 'iLIGOSRD', 'iLIGOSeismic', 'iLIGOShot', 'iLIGOThermal']\n"
     ]
    }
   ],
   "source": [
    "from pycbc.psd import get_lalsim_psd_list\n",
    "\n",
    "# List the available analytic psds\n",
    "print(get_lalsim_psd_list())"
   ]
  },
  {
   "attachments": {},
   "cell_type": "markdown",
   "metadata": {},
   "source": [
    "As an example, let's choose LIGO and Einstein Telescope."
   ]
  },
  {
   "cell_type": "code",
   "execution_count": 45,
   "metadata": {},
   "outputs": [],
   "source": [
    "from pycbc.psd import aLIGODesignSensitivityP1200087, EinsteinTelescopeP1600143\n",
    "\n",
    "deltaf = 1.0 / t1[-1]\n",
    "flen    = len(Reh1)//2 + 1\n",
    "psd_L1     = aLIGODesignSensitivityP1200087(flen, deltaf, fmin)\n",
    "psd_ET     = EinsteinTelescopeP1600143(flen, deltaf, fmin)"
   ]
  },
  {
   "cell_type": "code",
   "execution_count": null,
   "metadata": {},
   "outputs": [
    {
     "name": "stdout",
     "output_type": "stream",
     "text": [
      "fmin =  427.2679 , fmrg =  1801.3387380840381\n"
     ]
    },
    {
     "data": {
      "image/png": "[encoded data removed]",
      "text/plain": [
       "<Figure size 432x288 with 1 Axes>"
      ]
     },
     "metadata": {
      "needs_background": "light"
     },
     "output_type": "display_data"
    }
   ],
   "source": [
    "# We can visualize the PSD\n",
    "plt.plot(psd_L1.sample_frequencies,psd_L1,label='LIGO')\n",
    "plt.plot(psd_ET.sample_frequencies,psd_ET,label='ET')\n",
    "plt.xlim([fmin,fmrg])\n",
    "plt.xscale('log')\n",
    "plt.yscale('log')\n",
    "plt.xlabel('frequency [Hz]')\n",
    "plt.legend()\n",
    "plt.plot()\n",
    "\n",
    "print('fmin = ',fmin,', fmrg = ',fmrg)"
   ]
  },
  {
   "attachments": {},
   "cell_type": "markdown",
   "metadata": {},
   "source": [
    "And taper our waveforms"
   ]
  },
  {
   "cell_type": "code",
   "execution_count": 46,
   "metadata": {},
   "outputs": [],
   "source": [
    "# Tapering\n",
    "alpha=0.001\n",
    "L = t1[-1] # length of signal in seconds\n",
    "Reh1, _ = windowing(Reh1, alpha/L)\n",
    "L = t2[-1]\n",
    "Reh2, _ = windowing(Reh2, alpha/L)"
   ]
  },
  {
   "attachments": {},
   "cell_type": "markdown",
   "metadata": {},
   "source": [
    "Everything is now ready to compute the match (faithfulness):"
   ]
  },
  {
   "cell_type": "code",
   "execution_count": 47,
   "metadata": {},
   "outputs": [
    {
     "name": "stdout",
     "output_type": "stream",
     "text": [
      "fmin = 427.2679  fmax=  1801.3387380840381 , unfaithfulness =  3.332819616985727e-05\n"
     ]
    }
   ],
   "source": [
    "m = match(t1, Reh1, t2, Reh2, fpsd=psd_L1.sample_frequencies, psd=psd_L1, fmin=fmin, fmax=fmrg, df=deltaf)\n",
    "print(\"fmin =\",fmin, ' fmax= ',fmrg,\", unfaithfulness = \",1.-m)"
   ]
  },
  {
   "attachments": {},
   "cell_type": "markdown",
   "metadata": {},
   "source": [
    "If we use the ET PSD we obtain instead:"
   ]
  },
  {
   "cell_type": "code",
   "execution_count": 48,
   "metadata": {},
   "outputs": [
    {
     "name": "stdout",
     "output_type": "stream",
     "text": [
      "fmin = 427.2679  fmax=  1801.3387380840381 , unfaithfulness =  3.055724561129569e-05\n"
     ]
    }
   ],
   "source": [
    "m = match(t1, Reh1, t2, Reh2, fpsd=psd_ET.sample_frequencies, psd=psd_ET, fmin=fmin, fmax=fmrg, df=deltaf)\n",
    "print(\"fmin =\",fmin, ' fmax= ',fmrg,\", unfaithfulness = \",1.-m)"
   ]
  }
 ],
 "metadata": {
  "kernelspec": {
   "display_name": "base",
   "language": "python",
   "name": "python3"
  },
  "language_info": {
   "codemirror_mode": {
    "name": "ipython",
    "version": 3
   },
   "file_extension": ".py",
   "mimetype": "text/x-python",
   "name": "python",
   "nbconvert_exporter": "python",
   "pygments_lexer": "ipython3",
   "version": "3.9.7"
  },
  "vscode": {
   "interpreter": {
    "hash": "c1e17a00b0aafd17a1d703df555a95772c618591fbce2c667d77b3e0cadbd66d"
   }
  }
 },
 "nbformat": 4,
 "nbformat_minor": 4
}
